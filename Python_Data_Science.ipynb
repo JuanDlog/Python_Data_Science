{
  "nbformat": 4,
  "nbformat_minor": 0,
  "metadata": {
    "colab": {
      "provenance": [],
      "include_colab_link": true
    },
    "kernelspec": {
      "name": "python3",
      "display_name": "Python 3"
    },
    "language_info": {
      "name": "python"
    }
  },
  "cells": [
    {
      "cell_type": "markdown",
      "metadata": {
        "id": "view-in-github",
        "colab_type": "text"
      },
      "source": [
        "<a href=\"https://colab.research.google.com/github/JuanDlog/Python_Data_Science/blob/main/Python_Data_Science.ipynb\" target=\"_parent\"><img src=\"https://colab.research.google.com/assets/colab-badge.svg\" alt=\"Open In Colab\"/></a>"
      ]
    },
    {
      "cell_type": "markdown",
      "source": [
        "# Python para Data Science\n",
        "\n",
        "Notebook para el curso de Python para Data Science publicado en la plataforma de [Alura Latam](https://www.aluracursos.com/)"
      ],
      "metadata": {
        "id": "lQx6Mmv0OJyT"
      }
    },
    {
      "cell_type": "markdown",
      "source": [
        "# Introducción a Python\n",
        "¡Vamos a conocer Python, nuestro ambiente de estudio, y también generaremos nuestro primer código en este lenguaje!"
      ],
      "metadata": {
        "id": "7SiB6JIpYKmY"
      }
    },
    {
      "cell_type": "markdown",
      "source": [
        "## Google Colaboratory\n",
        "\n",
        "Ya aprendimos qué es [Python](https://www.python.org/) y ahora aprenderemos a usar nuestra herramienta de ejecución [Google Colaboratory](https://colab.research.google.com/) para programar en un notebook interactivo.\n",
        "\n",
        "Vamos a probar algunas funciones de este ambiente."
      ],
      "metadata": {
        "id": "Yugfb3fCOYY9"
      }
    },
    {
      "cell_type": "markdown",
      "source": [
        " **`>>> Usa esta celda para mover <<<`**"
      ],
      "metadata": {
        "id": "2iUHQsJasJAk"
      }
    },
    {
      "cell_type": "code",
      "source": [],
      "metadata": {
        "id": "o7jrX_iKhdkU"
      },
      "execution_count": null,
      "outputs": []
    },
    {
      "cell_type": "markdown",
      "source": [
        "## ¡Hola mundo!\n",
        "\n",
        "Vamos a conocer un poco más de cerca nuestro notebook. Para ello ejecutaremos nuestro primer comando en Python: [`print()`](https://docs.python.org/3/library/functions.html#print)"
      ],
      "metadata": {
        "id": "aLSFP2V7XTfe"
      }
    },
    {
      "cell_type": "code",
      "source": [
        "print('¡Hola mundo!')"
      ],
      "metadata": {
        "id": "0qZX8_ZQBYyk",
        "colab": {
          "base_uri": "https://localhost:8080/"
        },
        "outputId": "fd739d28-474c-4f49-e968-06fb6b2305cc"
      },
      "execution_count": null,
      "outputs": [
        {
          "output_type": "stream",
          "name": "stdout",
          "text": [
            "¡Hola mundo!\n"
          ]
        }
      ]
    },
    {
      "cell_type": "code",
      "source": [
        "15"
      ],
      "metadata": {
        "id": "GLMzF_AKBY7a",
        "colab": {
          "base_uri": "https://localhost:8080/"
        },
        "outputId": "3d301a0e-d3c8-412b-e4ec-42973c98d2e8"
      },
      "execution_count": null,
      "outputs": [
        {
          "output_type": "execute_result",
          "data": {
            "text/plain": [
              "15"
            ]
          },
          "metadata": {},
          "execution_count": 2
        }
      ]
    },
    {
      "cell_type": "code",
      "source": [
        "print('Mi nombre es Juan Diego y me gusta la ciencia de datos')"
      ],
      "metadata": {
        "colab": {
          "base_uri": "https://localhost:8080/"
        },
        "id": "ZgJ7y3FjIF3k",
        "outputId": "bd8e9bb7-9bdd-4628-d30b-ed282eb98025"
      },
      "execution_count": null,
      "outputs": [
        {
          "output_type": "stream",
          "name": "stdout",
          "text": [
            "Mi nombre es Juan Diego y me gusta la ciencia de datos\n"
          ]
        }
      ]
    },
    {
      "cell_type": "code",
      "source": [
        "print('Escuela de Datos de Alura')\n",
        "print('Nombre: Juan Diego')\n",
        "print('Apellido: Jaramillo Taborda')\n",
        "print('J')\n",
        "print('U')\n",
        "print('A')\n",
        "print('N')\n",
        "print(29, 'Enero', 2005)\n",
        "print('Año actual:', 2025)\n"
      ],
      "metadata": {
        "colab": {
          "base_uri": "https://localhost:8080/"
        },
        "id": "uol8KinlJcIu",
        "outputId": "9ace2a0e-1b41-402b-8199-e81d9d4d04c0"
      },
      "execution_count": null,
      "outputs": [
        {
          "output_type": "stream",
          "name": "stdout",
          "text": [
            "Escuela de Datos de Alura\n",
            "Nombre: Juan Diego\n",
            "Apellido: Jaramillo Taborda\n",
            "J\n",
            "U\n",
            "A\n",
            "N\n",
            "29 Enero 2005\n",
            "Año actual: 2025\n"
          ]
        }
      ]
    },
    {
      "cell_type": "markdown",
      "source": [
        "# Manipulando los datos\n",
        "\n",
        "Vamos a aprender sobre las variables en Python, cómo declararlas y utilizarlas además de conocer otros comandos de este lenguaje. :D"
      ],
      "metadata": {
        "id": "iP8uWQmFYFRs"
      }
    },
    {
      "cell_type": "markdown",
      "source": [
        "## Variables\n",
        "\n",
        "En Data Science trabajamos con varios tipos de datos e informaciones, entonces es esencial saber cómo trabajar con las variables."
      ],
      "metadata": {
        "id": "sLNVmnTbag1Z"
      }
    },
    {
      "cell_type": "markdown",
      "source": [
        "Las variables en Python se crean cuando atribuimos un valor a ella.\n",
        "\n",
        "Para esto, colocamos el nombre de la variable, el signo de igual (`=`) y el valor que queremos atribuirle."
      ],
      "metadata": {
        "id": "lsCY0wahAbf6"
      }
    },
    {
      "cell_type": "code",
      "source": [
        "5"
      ],
      "metadata": {
        "id": "vsHh5buZADND",
        "colab": {
          "base_uri": "https://localhost:8080/"
        },
        "outputId": "da4cd34b-b7e3-48b2-a002-f4ddf49a7c20"
      },
      "execution_count": null,
      "outputs": [
        {
          "output_type": "execute_result",
          "data": {
            "text/plain": [
              "5"
            ]
          },
          "metadata": {},
          "execution_count": 15
        }
      ]
    },
    {
      "cell_type": "code",
      "source": [
        "id(5)"
      ],
      "metadata": {
        "id": "sivPtqSjADQV",
        "colab": {
          "base_uri": "https://localhost:8080/"
        },
        "outputId": "cc47ee2d-92f0-47d4-bbbf-f8fede5b818b"
      },
      "execution_count": null,
      "outputs": [
        {
          "output_type": "execute_result",
          "data": {
            "text/plain": [
              "10750984"
            ]
          },
          "metadata": {},
          "execution_count": 17
        }
      ]
    },
    {
      "cell_type": "code",
      "source": [
        "edad = 5"
      ],
      "metadata": {
        "id": "JC8jO47wADlm"
      },
      "execution_count": null,
      "outputs": []
    },
    {
      "cell_type": "code",
      "source": [
        "print(id(edad))\n",
        "print(id(5))"
      ],
      "metadata": {
        "colab": {
          "base_uri": "https://localhost:8080/"
        },
        "id": "d1Y2cZa8SNXS",
        "outputId": "32036908-9802-4e72-c9a8-a4d2408db189"
      },
      "execution_count": null,
      "outputs": [
        {
          "output_type": "stream",
          "name": "stdout",
          "text": [
            "10750984\n",
            "10750984\n"
          ]
        }
      ]
    },
    {
      "cell_type": "code",
      "source": [
        "numerocinco = 5"
      ],
      "metadata": {
        "id": "1mIqnf1rSW2d"
      },
      "execution_count": null,
      "outputs": []
    },
    {
      "cell_type": "code",
      "source": [
        "id(numerocinco)"
      ],
      "metadata": {
        "colab": {
          "base_uri": "https://localhost:8080/"
        },
        "id": "ieUrQCpESavH",
        "outputId": "561b901d-7f0c-4642-8d4c-d7a2f614cfbb"
      },
      "execution_count": null,
      "outputs": [
        {
          "output_type": "execute_result",
          "data": {
            "text/plain": [
              "10750984"
            ]
          },
          "metadata": {},
          "execution_count": 22
        }
      ]
    },
    {
      "cell_type": "code",
      "source": [
        "nombre = 'Juan'"
      ],
      "metadata": {
        "id": "dRoq5xOdSnUw"
      },
      "execution_count": null,
      "outputs": []
    },
    {
      "cell_type": "code",
      "source": [
        "id('Juan')"
      ],
      "metadata": {
        "colab": {
          "base_uri": "https://localhost:8080/"
        },
        "id": "0E4ZlmZxStIH",
        "outputId": "f11ef2a1-917f-455d-81ec-24b6e4109ad9"
      },
      "execution_count": null,
      "outputs": [
        {
          "output_type": "execute_result",
          "data": {
            "text/plain": [
              "137061400564208"
            ]
          },
          "metadata": {},
          "execution_count": 24
        }
      ]
    },
    {
      "cell_type": "code",
      "source": [
        "id(nombre)"
      ],
      "metadata": {
        "colab": {
          "base_uri": "https://localhost:8080/"
        },
        "id": "JrCJgEb8Sy6M",
        "outputId": "f9392f4e-2299-4232-cefc-60d7744e7c59"
      },
      "execution_count": null,
      "outputs": [
        {
          "output_type": "execute_result",
          "data": {
            "text/plain": [
              "137061400564208"
            ]
          },
          "metadata": {},
          "execution_count": 25
        }
      ]
    },
    {
      "cell_type": "markdown",
      "source": [
        "Existen algunos tipos de nomes que **no** podemos definir para las variables:\n",
        "\n",
        "- **Nombres que comiencen con números**\n",
        "  - Ejemplos: `10_notas`, `2_nombre_casa`, etc.\n",
        "- **Palabras separadas por espacio**\n",
        "  - Ejemplos: `Nombre escuela`, `notas estudiantes`, etc.\n",
        "- **Nombres de funciones de Python**\n",
        "  - Ejemplos: `print`, `type`, etc."
      ],
      "metadata": {
        "id": "om2N0jHKAzwL"
      }
    },
    {
      "cell_type": "markdown",
      "source": [
        "> Las letras mayúsculas y minúsculas generarán diferentes variables. La variable `edad` es diferente de `Edad` que a su vez es diferente de `EDAD`:\n",
        "``` Python\n",
        "edad = 1\n",
        "Edad = 2\n",
        "EDAD = 3\n",
        "_edad = 4\n",
        "_edad_ = 5\n",
        "print(edad, Edad, EDAD, _edad, _edad_)\n",
        "1 2 3 4 5\n",
        "```"
      ],
      "metadata": {
        "id": "A19vY2GVMujB"
      }
    },
    {
      "cell_type": "markdown",
      "source": [
        "## Tipos de variables\n",
        "\n",
        "Cada variable contiene una clase específica con respecto al tipo de objeto al cual esta hace referencia. Estas clases serán diferentes de acuerdo con el tipo de dato que le sea atribuido a una variable.\n",
        "\n",
        "Para conocer la clase de cada elemento usamos la función [`type()`](https://docs.python.org/3/library/functions.html#type)"
      ],
      "metadata": {
        "id": "UqhzuBhBHsps"
      }
    },
    {
      "cell_type": "code",
      "source": [
        "edad = 5"
      ],
      "metadata": {
        "id": "J5a9t73A_-PX"
      },
      "execution_count": null,
      "outputs": []
    },
    {
      "cell_type": "code",
      "source": [
        "type(edad)"
      ],
      "metadata": {
        "id": "rqmO1ew-_-So",
        "colab": {
          "base_uri": "https://localhost:8080/"
        },
        "outputId": "c89f1c8f-75e6-4ef7-e690-0847ce8ef34e"
      },
      "execution_count": null,
      "outputs": [
        {
          "output_type": "execute_result",
          "data": {
            "text/plain": [
              "int"
            ]
          },
          "metadata": {},
          "execution_count": 27
        }
      ]
    },
    {
      "cell_type": "code",
      "source": [
        "promedio = 9.5\n",
        "type(promedio)"
      ],
      "metadata": {
        "id": "xkrPMkeY_-cP",
        "colab": {
          "base_uri": "https://localhost:8080/"
        },
        "outputId": "ca3cbbff-54f8-41d7-b13c-97831fc6335d"
      },
      "execution_count": null,
      "outputs": [
        {
          "output_type": "execute_result",
          "data": {
            "text/plain": [
              "float"
            ]
          },
          "metadata": {},
          "execution_count": 28
        }
      ]
    },
    {
      "cell_type": "code",
      "source": [
        "nombre = 'Juan'\n",
        "type(nombre)"
      ],
      "metadata": {
        "colab": {
          "base_uri": "https://localhost:8080/"
        },
        "id": "YAvGTbeiVBBh",
        "outputId": "1046aeba-4cb6-42f4-d3e0-63f2b6dde7d5"
      },
      "execution_count": null,
      "outputs": [
        {
          "output_type": "execute_result",
          "data": {
            "text/plain": [
              "str"
            ]
          },
          "metadata": {},
          "execution_count": 30
        }
      ]
    },
    {
      "cell_type": "code",
      "source": [
        "v = True\n",
        "type(v)"
      ],
      "metadata": {
        "colab": {
          "base_uri": "https://localhost:8080/"
        },
        "id": "P9cKDxi8VJfJ",
        "outputId": "64cd4b42-394c-4c4d-cbeb-99f3289ab6ba"
      },
      "execution_count": null,
      "outputs": [
        {
          "output_type": "execute_result",
          "data": {
            "text/plain": [
              "bool"
            ]
          },
          "metadata": {},
          "execution_count": 32
        }
      ]
    },
    {
      "cell_type": "markdown",
      "source": [
        "En un conjunto de datos escolares podemos tener varios tipos de informaciones. Supongamos que tenemos acceso a la ficha de datos del alumno *Penélope Camacho*, cómo transformamos este nombre en variables de Python?\n",
        "\n",
        "#### Ficha:\n",
        "\n",
        "- Nombre: Penélope Camacho\n",
        "- Edad: 11 años\n",
        "- Promedio del semestre: 9,75\n",
        "- Situación de aprobación: Verdadera (aprobado)"
      ],
      "metadata": {
        "id": "O-FxDumfWu0C"
      }
    },
    {
      "cell_type": "code",
      "source": [
        "nombre_estudiante = 'Penélope Camacho'\n",
        "edad_estudiante = 11\n",
        "promedio_estudiante = 9.75\n",
        "aprobado = True\n",
        "\n",
        "print(nombre_estudiante, edad_estudiante, promedio_estudiante, aprobado)\n",
        "print(type(nombre_estudiante), type(edad_estudiante), type(promedio_estudiante), type(aprobado))\n"
      ],
      "metadata": {
        "id": "FabQ7jQf_8Xt",
        "colab": {
          "base_uri": "https://localhost:8080/"
        },
        "outputId": "8410bc78-f26c-4ebf-95cd-d719717f603d"
      },
      "execution_count": null,
      "outputs": [
        {
          "output_type": "stream",
          "name": "stdout",
          "text": [
            "Penélope Camacho 11 9.75 True\n",
            "<class 'str'> <class 'int'> <class 'float'> <class 'bool'>\n"
          ]
        }
      ]
    },
    {
      "cell_type": "code",
      "source": [],
      "metadata": {
        "id": "IZLQnZUj_8bd"
      },
      "execution_count": null,
      "outputs": []
    },
    {
      "cell_type": "markdown",
      "source": [
        "## Variables numéricas\n",
        "\n",
        "Entre los tipos de datos numéricos vamos a enfocarnos en los tipos `entero` y `float`."
      ],
      "metadata": {
        "id": "KFq_8Sxf-OG0"
      }
    },
    {
      "cell_type": "markdown",
      "source": [
        "Tenemos una tabla de información sobre los diversos cargos, cantidad de personas empleadas y el salario correspondiente:\n",
        "\n",
        "|Cargo | Cantidad | Salario|\n",
        "|---|---|---|\n",
        "|Vigilante | 5 | 300 |\n",
        "|Docente | 16| 500|\n",
        "|Coordinador| 2 |600|\n",
        "\n",
        "Necesitamos trabajar con estos datos para obtener:\n",
        "\n",
        "- La cantidad total de empleados;\n",
        "- La diferencia entre el salario más bajo y más alto; y\n",
        "- El promedio ponderado de los salarios de los empleados de la escuela."
      ],
      "metadata": {
        "id": "8_HYUbkVYdQY"
      }
    },
    {
      "cell_type": "code",
      "source": [
        "c_vigilante = 5\n",
        "s_vigilante = 300\n",
        "\n",
        "c_docente = 16\n",
        "s_docente = 500\n",
        "\n",
        "c_coordinador = 2\n",
        "s_coordinador = 600"
      ],
      "metadata": {
        "id": "F_X-wxdm_5Ys"
      },
      "execution_count": null,
      "outputs": []
    },
    {
      "cell_type": "code",
      "source": [
        "total_empleados = c_vigilante + c_docente + c_coordinador\n",
        "total_empleados"
      ],
      "metadata": {
        "id": "gKmBbhII_5b9",
        "colab": {
          "base_uri": "https://localhost:8080/"
        },
        "outputId": "a0cc3b30-a44d-488f-866e-7c3cdb9fd709"
      },
      "execution_count": null,
      "outputs": [
        {
          "output_type": "execute_result",
          "data": {
            "text/plain": [
              "23"
            ]
          },
          "metadata": {},
          "execution_count": 37
        }
      ]
    },
    {
      "cell_type": "code",
      "source": [
        "diferencia_salario = s_coordinador - s_vigilante\n",
        "diferencia_salario"
      ],
      "metadata": {
        "id": "fIugsxNy_53j",
        "colab": {
          "base_uri": "https://localhost:8080/"
        },
        "outputId": "a30ea638-d90d-4dbf-f06b-fb6a18d9eb6a"
      },
      "execution_count": null,
      "outputs": [
        {
          "output_type": "execute_result",
          "data": {
            "text/plain": [
              "300"
            ]
          },
          "metadata": {},
          "execution_count": 38
        }
      ]
    },
    {
      "cell_type": "code",
      "source": [
        "promedio_salarios = (c_vigilante * s_vigilante + c_docente * s_docente\n",
        "                     + c_coordinador * s_coordinador) / total_empleados\n",
        "promedio_salarios"
      ],
      "metadata": {
        "colab": {
          "base_uri": "https://localhost:8080/"
        },
        "id": "8gj387OnXF-B",
        "outputId": "91d8d8b8-bf83-416f-fad9-abb82611dd24"
      },
      "execution_count": null,
      "outputs": [
        {
          "output_type": "execute_result",
          "data": {
            "text/plain": [
              "465.2173913043478"
            ]
          },
          "metadata": {},
          "execution_count": 41
        }
      ]
    },
    {
      "cell_type": "code",
      "source": [
        "type(promedio_salarios)"
      ],
      "metadata": {
        "colab": {
          "base_uri": "https://localhost:8080/"
        },
        "id": "mDMDBtCVXqAV",
        "outputId": "0712f288-4732-4232-81d6-67d4876c2f91"
      },
      "execution_count": null,
      "outputs": [
        {
          "output_type": "execute_result",
          "data": {
            "text/plain": [
              "float"
            ]
          },
          "metadata": {},
          "execution_count": 42
        }
      ]
    },
    {
      "cell_type": "markdown",
      "source": [
        "## Strings"
      ],
      "metadata": {
        "id": "yQy7b0ZWoD-P"
      }
    },
    {
      "cell_type": "markdown",
      "source": [
        "Strings hace referencia a un conjunto de caracteres formando un texto.\n",
        "\n",
        "Podemos crear Strings cuando atribuimos un dato a una variable entre comillas sencillas (`'`) o comillas dobles (`\"`)."
      ],
      "metadata": {
        "id": "vlo2-DXusv3s"
      }
    },
    {
      "cell_type": "code",
      "source": [
        "t = 'Alura'\n",
        "type(t)"
      ],
      "metadata": {
        "id": "ityEWqvh_2wK",
        "colab": {
          "base_uri": "https://localhost:8080/"
        },
        "outputId": "1c548ca2-495f-4a70-df2f-c2bdf953ec5a"
      },
      "execution_count": null,
      "outputs": [
        {
          "output_type": "execute_result",
          "data": {
            "text/plain": [
              "str"
            ]
          },
          "metadata": {},
          "execution_count": 43
        }
      ]
    },
    {
      "cell_type": "markdown",
      "source": [
        "Las variables textuales son objetos que poseen métodos que nos ayudan a formatear strings. Los métodos los podemos ejecutar al definir un objeto de acuerdo con la siguiente estructura:\n",
        "\n",
        "```\n",
        "objeto.metodo()\n",
        "```\n",
        "\n",
        "Existen métodos que no necesitan los `()`, siempre es una buena práctica verificar la documentación para cada caso."
      ],
      "metadata": {
        "id": "2e9UD_CCxqz_"
      }
    },
    {
      "cell_type": "markdown",
      "source": [
        "---\n",
        "**Situación:**\n",
        "\n",
        "Recibimos una variable con el nombre de una profesora de la escuela para añadirla a los registros. Sin embargo, necesitamos darle un tratamiento a este texto antes de insertarlo al sistema."
      ],
      "metadata": {
        "id": "p6aPmMGP4tf9"
      }
    },
    {
      "cell_type": "code",
      "source": [
        "texto = '  Micaela de los Sanyos '\n",
        "id(texto)"
      ],
      "metadata": {
        "id": "icDWtYTjBO0n",
        "colab": {
          "base_uri": "https://localhost:8080/"
        },
        "outputId": "99597173-8a70-4471-84ca-bff40e26e76b"
      },
      "execution_count": null,
      "outputs": [
        {
          "output_type": "execute_result",
          "data": {
            "text/plain": [
              "137060799769584"
            ]
          },
          "metadata": {},
          "execution_count": 44
        }
      ]
    },
    {
      "cell_type": "markdown",
      "source": [
        "El objetivo final es que el nombre aparezca de la siguiente forma:\n",
        "\n",
        "```\n",
        "'MICAELA DE LOS SANTOS'\n",
        "```"
      ],
      "metadata": {
        "id": "Dg2ZXSZOGzjC"
      }
    },
    {
      "cell_type": "markdown",
      "source": [
        "### [`str.upper()` ](https://docs.python.org/3/library/stdtypes.html#str.upper)\n",
        "Convierte una string a mayúsculas."
      ],
      "metadata": {
        "id": "iVTAD8q702eN"
      }
    },
    {
      "cell_type": "code",
      "source": [
        "texto.upper()"
      ],
      "metadata": {
        "id": "wMVshJrY_ZXh",
        "colab": {
          "base_uri": "https://localhost:8080/",
          "height": 36
        },
        "outputId": "54f22619-86f0-482b-9726-77021a3ac9f1"
      },
      "execution_count": null,
      "outputs": [
        {
          "output_type": "execute_result",
          "data": {
            "text/plain": [
              "'  MICAELA DE LOS SANYOS '"
            ],
            "application/vnd.google.colaboratory.intrinsic+json": {
              "type": "string"
            }
          },
          "metadata": {},
          "execution_count": 46
        }
      ]
    },
    {
      "cell_type": "markdown",
      "source": [
        "### [`str.lower()`](https://docs.python.org/3/library/stdtypes.html#str.lower)\n",
        "Convierte una string a minúsculas."
      ],
      "metadata": {
        "id": "hbDSBtMV1TpG"
      }
    },
    {
      "cell_type": "code",
      "source": [
        "texto.lower()"
      ],
      "metadata": {
        "id": "px3yEeNH_YK4",
        "colab": {
          "base_uri": "https://localhost:8080/",
          "height": 36
        },
        "outputId": "e6ef22a4-ae5d-44c4-ff57-9026a8803a63"
      },
      "execution_count": null,
      "outputs": [
        {
          "output_type": "execute_result",
          "data": {
            "text/plain": [
              "'  micaela de los sanyos '"
            ],
            "application/vnd.google.colaboratory.intrinsic+json": {
              "type": "string"
            }
          },
          "metadata": {},
          "execution_count": 47
        }
      ]
    },
    {
      "cell_type": "markdown",
      "source": [
        "### [`str.strip()`](https://docs.python.org/3/library/stdtypes.html#str.strip)\n",
        "Elimina los espacios en blanco al inicio y al final de una string."
      ],
      "metadata": {
        "id": "kz47eWM11gii"
      }
    },
    {
      "cell_type": "code",
      "source": [
        "texto.strip()"
      ],
      "metadata": {
        "id": "76dLgNa4_XAe",
        "colab": {
          "base_uri": "https://localhost:8080/",
          "height": 36
        },
        "outputId": "dae3abf6-b67c-415b-8202-6af7f3dbceae"
      },
      "execution_count": null,
      "outputs": [
        {
          "output_type": "execute_result",
          "data": {
            "text/plain": [
              "'Micaela de los Sanyos'"
            ],
            "application/vnd.google.colaboratory.intrinsic+json": {
              "type": "string"
            }
          },
          "metadata": {},
          "execution_count": 48
        }
      ]
    },
    {
      "cell_type": "markdown",
      "source": [
        "### [`str.replace(antiguo, nuevo)`](https://docs.python.org/3/library/stdtypes.html#str.replace)\n",
        "\n",
        "Sustituye todas las ocurrencias del texto \"antiguo\" en la string por el  \"nuevo\"."
      ],
      "metadata": {
        "id": "m6notiyS1SCV"
      }
    },
    {
      "cell_type": "code",
      "source": [
        "texto.replace('y', 't')"
      ],
      "metadata": {
        "id": "PNXAixtE_V6R",
        "colab": {
          "base_uri": "https://localhost:8080/",
          "height": 36
        },
        "outputId": "25b15986-f448-4140-ae88-cea7a90f0c3d"
      },
      "execution_count": null,
      "outputs": [
        {
          "output_type": "execute_result",
          "data": {
            "text/plain": [
              "'  Micaela de los Santos '"
            ],
            "application/vnd.google.colaboratory.intrinsic+json": {
              "type": "string"
            }
          },
          "metadata": {},
          "execution_count": 49
        }
      ]
    },
    {
      "cell_type": "markdown",
      "source": [
        "### Observaciones\n",
        "\n",
        "1. Los métodos devuelven una **tranformación**, no son ejecutados directamente sobre la variable donde está almacenado el texto.\n",
        "\n",
        "2. Adicionalmente, podemos acumular la ejecución de los métodos."
      ],
      "metadata": {
        "id": "zukvEjhG2Rcn"
      }
    },
    {
      "cell_type": "code",
      "source": [
        "texto"
      ],
      "metadata": {
        "colab": {
          "base_uri": "https://localhost:8080/",
          "height": 36
        },
        "id": "ON1Q7ObuZZRT",
        "outputId": "8bfcb561-3626-4bdb-c15a-d93ed2ccde97"
      },
      "execution_count": null,
      "outputs": [
        {
          "output_type": "execute_result",
          "data": {
            "text/plain": [
              "'  Micaela de los Sanyos '"
            ],
            "application/vnd.google.colaboratory.intrinsic+json": {
              "type": "string"
            }
          },
          "metadata": {},
          "execution_count": 50
        }
      ]
    },
    {
      "cell_type": "code",
      "source": [
        "id(texto)"
      ],
      "metadata": {
        "colab": {
          "base_uri": "https://localhost:8080/"
        },
        "id": "BOxeDcmaZdHI",
        "outputId": "77e72f80-6e29-4a4d-9912-58df61e12625"
      },
      "execution_count": null,
      "outputs": [
        {
          "output_type": "execute_result",
          "data": {
            "text/plain": [
              "137060799769584"
            ]
          },
          "metadata": {},
          "execution_count": 51
        }
      ]
    },
    {
      "cell_type": "markdown",
      "source": [
        "Para que la transformación se pueda ejecutar debemos atribuir la salida de las transformaciones a las variables"
      ],
      "metadata": {
        "id": "1KbwfVut2h6I"
      }
    },
    {
      "cell_type": "code",
      "source": [
        "nuevo_texto = texto.strip().replace('y', 't').upper()\n",
        "print(nuevo_texto)\n",
        "print(id(texto), id(nuevo_texto))"
      ],
      "metadata": {
        "id": "ocPP-Jaj_SJI",
        "colab": {
          "base_uri": "https://localhost:8080/"
        },
        "outputId": "b9553a69-5666-4a17-a061-cd675312da34"
      },
      "execution_count": null,
      "outputs": [
        {
          "output_type": "stream",
          "name": "stdout",
          "text": [
            "MICAELA DE LOS SANTOS\n",
            "137060799769584 137060800047072\n"
          ]
        }
      ]
    },
    {
      "cell_type": "code",
      "source": [
        "texto = texto.strip().replace('y', 't').upper()\n",
        "print(texto)\n",
        "print(id(texto), id(nuevo_texto))"
      ],
      "metadata": {
        "id": "m1RvLGZZ_SP3",
        "colab": {
          "base_uri": "https://localhost:8080/"
        },
        "outputId": "9335b9ee-0056-4e61-88c4-9351e1038e2f"
      },
      "execution_count": null,
      "outputs": [
        {
          "output_type": "stream",
          "name": "stdout",
          "text": [
            "MICAELA DE LOS SANTOS\n",
            "137060799655936 137060800047072\n"
          ]
        }
      ]
    },
    {
      "cell_type": "markdown",
      "source": [
        "## Capturando datos\n",
        "\n",
        "En algunas aplicaciones necesitamos capturar los valores del usuario de nuestro proyecto. En python, logramos capturar los datos del usuario a través del comando [`input()`](https://docs.python.org/3/library/functions.html#input).\n",
        "\n",
        "Para ejecutar la captura debemos atribuir el resultado de esta función a una variable."
      ],
      "metadata": {
        "id": "0h9Fh5G9kHCa"
      }
    },
    {
      "cell_type": "code",
      "source": [
        "nombre = input('Escribe tu nombre: ')"
      ],
      "metadata": {
        "id": "zbH_9i3q_PdY",
        "colab": {
          "base_uri": "https://localhost:8080/"
        },
        "outputId": "0e565270-465f-477c-a75d-a10df048ed27"
      },
      "execution_count": null,
      "outputs": [
        {
          "name": "stdout",
          "output_type": "stream",
          "text": [
            "Escribe tu nombre:Juan\n"
          ]
        }
      ]
    },
    {
      "cell_type": "code",
      "source": [
        "type(nombre)"
      ],
      "metadata": {
        "id": "JZy1Q9Tl_PgL",
        "colab": {
          "base_uri": "https://localhost:8080/"
        },
        "outputId": "3a73e68d-6843-4d99-c42b-a48a1f69f509"
      },
      "execution_count": null,
      "outputs": [
        {
          "output_type": "execute_result",
          "data": {
            "text/plain": [
              "str"
            ]
          },
          "metadata": {},
          "execution_count": 58
        }
      ]
    },
    {
      "cell_type": "markdown",
      "source": [
        "La salida de este comando siempre será una *string*. Esto quiere decir que aunque capturemos un valor de variable numérica, este será de tipo string.\n",
        "\n",
        "Entonces, será necesario **convertir el resultado cuando no se desea utilizar el valor como tipo string**."
      ],
      "metadata": {
        "id": "7z7hcLCk_aCY"
      }
    },
    {
      "cell_type": "markdown",
      "source": [
        "Existen funciones para la conversión de valores:\n",
        "\n",
        "- Enteros: [`int(dato_para_conversion)`](https://docs.python.org/3/library/functions.html#int)\n",
        "- Coma flotante: [`float(dato_para_conversion)`](https://docs.python.org/3/library/functions.html#float)\n",
        "- String: [`str(dato_para_conversion)`](https://docs.python.org/3/library/functions.html#func-str)\n",
        "- Booleano: [`bool(dato_para_conversion)`](https://docs.python.org/3/library/functions.html#bool)"
      ],
      "metadata": {
        "id": "TOlegATj1Jfp"
      }
    },
    {
      "cell_type": "code",
      "source": [
        "ano_admision = int(input('Digita el año de admisión: '))"
      ],
      "metadata": {
        "id": "M2ueeH6l_NMe",
        "colab": {
          "base_uri": "https://localhost:8080/"
        },
        "outputId": "473718d4-c0bb-4e02-9ac0-0a16a99d91dd"
      },
      "execution_count": null,
      "outputs": [
        {
          "name": "stdout",
          "output_type": "stream",
          "text": [
            "Digita el año de admisión: 2023\n"
          ]
        }
      ]
    },
    {
      "cell_type": "code",
      "source": [
        "type(ano_admision)"
      ],
      "metadata": {
        "id": "xfWwuViK_NUn",
        "colab": {
          "base_uri": "https://localhost:8080/"
        },
        "outputId": "75ee3680-7d79-4332-bced-17db42623134"
      },
      "execution_count": null,
      "outputs": [
        {
          "output_type": "execute_result",
          "data": {
            "text/plain": [
              "int"
            ]
          },
          "metadata": {},
          "execution_count": 65
        }
      ]
    },
    {
      "cell_type": "code",
      "source": [
        "nota_admision = float(input('Digita la nota de admisión: '))"
      ],
      "metadata": {
        "id": "uFCHDyew_NZm",
        "colab": {
          "base_uri": "https://localhost:8080/"
        },
        "outputId": "c28e24d5-fa8f-42c1-d95c-be3410d3736c"
      },
      "execution_count": null,
      "outputs": [
        {
          "name": "stdout",
          "output_type": "stream",
          "text": [
            "Digita la nota de admisión: 9.6\n"
          ]
        }
      ]
    },
    {
      "cell_type": "code",
      "source": [
        "type(nota_admision)"
      ],
      "metadata": {
        "colab": {
          "base_uri": "https://localhost:8080/"
        },
        "id": "1AjBtcT0nl_r",
        "outputId": "82365d32-de3a-42b5-d12c-296c625644fd"
      },
      "execution_count": null,
      "outputs": [
        {
          "output_type": "execute_result",
          "data": {
            "text/plain": [
              "float"
            ]
          },
          "metadata": {},
          "execution_count": 68
        }
      ]
    },
    {
      "cell_type": "markdown",
      "source": [
        "Trataremos de representar mejor ahora el resultado de la transformación que obtuvimos. Nosotros podemos formatear y presentar nuestro resultado mezclando strings con valores no textuales.\n",
        "\n",
        "Para ello utilizamos la estructura de formatación `f` con strings."
      ],
      "metadata": {
        "id": "yNI2-XTbB3aS"
      }
    },
    {
      "cell_type": "code",
      "source": [
        "print(f'\\tEl año de admisión fue {ano_admision} \\n\\tLa nota de admisión fue: {nota_admision}')"
      ],
      "metadata": {
        "id": "keJjA5N9_K5i",
        "colab": {
          "base_uri": "https://localhost:8080/"
        },
        "outputId": "d0b1a59f-fd28-4e3d-b959-7f64dd44d655"
      },
      "execution_count": null,
      "outputs": [
        {
          "output_type": "stream",
          "name": "stdout",
          "text": [
            "\tEl año de admisión fue 2023 \n",
            "\tLa nota de admisión fue: 9.6\n"
          ]
        }
      ]
    },
    {
      "cell_type": "markdown",
      "source": [
        "## Desafio 2"
      ],
      "metadata": {
        "id": "dxJ3f53JuGNw"
      }
    },
    {
      "cell_type": "code",
      "source": [
        "# 1, 2, 3\n",
        "nombre = input('Escribe tu nombre: ')\n",
        "edad = int(input('Escribe tu edad: '))\n",
        "altura = float(input('¿Cual es tu altura en metros?: '))\n",
        "\n",
        "print(f'Hola, {nombre}, tienes {edad} y mides {altura} metros')"
      ],
      "metadata": {
        "colab": {
          "base_uri": "https://localhost:8080/"
        },
        "id": "gaWTUigzuMmb",
        "outputId": "fa8cd02c-5fc5-4d8c-fe73-906fea6ce806"
      },
      "execution_count": null,
      "outputs": [
        {
          "output_type": "stream",
          "name": "stdout",
          "text": [
            "Escribe tu nombre: Juan\n",
            "Escribe tu edad: 20\n",
            "¿Cual es tu altura en metros?: 1.68\n",
            "Hola, Juan, tienes 20 y mides 1.68 metros\n"
          ]
        }
      ]
    },
    {
      "cell_type": "code",
      "source": [
        "# 4, 5\n",
        "x = int(input('Dame el valor de X: '))\n",
        "y = int(input('Dame el valor de Y: '))\n",
        "b = int(input('Dame el valor de B: '))\n",
        "\n",
        "print(f'{x} + {y} + {b} = {x + y + b}')"
      ],
      "metadata": {
        "colab": {
          "base_uri": "https://localhost:8080/"
        },
        "id": "FACzQKcpul9s",
        "outputId": "1c729132-13ab-4d49-e2ec-ed90d6017ae5"
      },
      "execution_count": null,
      "outputs": [
        {
          "output_type": "stream",
          "name": "stdout",
          "text": [
            "Dame el valor de X: 2\n",
            "Dame el valor de Y: 2\n",
            "Dame el valor de B: 2\n",
            "2 + 2 + 2 = 6\n"
          ]
        }
      ]
    },
    {
      "cell_type": "code",
      "source": [
        "# 6, 7\n",
        "x = int(input('Dame el valor de X: '))\n",
        "y = int(input('Dame el valor de y: '))\n",
        "\n",
        "print('#6 {} - {} = {}' .format(x, y, x - y))\n",
        "print('#7 %d * %d = %s' %(x, y, x * y))"
      ],
      "metadata": {
        "colab": {
          "base_uri": "https://localhost:8080/"
        },
        "id": "DVYCucu2w4Li",
        "outputId": "33137ffa-bd31-4bc3-dc4d-72a061824914"
      },
      "execution_count": null,
      "outputs": [
        {
          "output_type": "stream",
          "name": "stdout",
          "text": [
            "Dame el valor de X: 2\n",
            "Dame el valor de y: 2\n",
            "#6 2 - 2 = 0\n",
            "#7 2 * 2 = 4\n"
          ]
        }
      ]
    },
    {
      "cell_type": "code",
      "source": [
        "# 8\n",
        "x = int(input('Dame el valor del numerador: '))\n",
        "y = int(input('Dame el valor del demonidador: '))\n",
        "\n",
        "while y == 0:\n",
        "    print('No se puede dividir por cero')\n",
        "    y = int(input('Dame el valor del demonidador: '))\n",
        "print(f'{x} / {y} = {x / y}')\n",
        "\n",
        "\n"
      ],
      "metadata": {
        "colab": {
          "base_uri": "https://localhost:8080/"
        },
        "id": "5HPUXHz3ySWO",
        "outputId": "7d5fc5b0-7cf4-4c66-d849-8c066203a07f"
      },
      "execution_count": null,
      "outputs": [
        {
          "output_type": "stream",
          "name": "stdout",
          "text": [
            "Dame el valor del numerador: 10\n",
            "Dame el valor del demonidador: 0\n",
            "No se puede dividir por cero\n",
            "Dame el valor del demonidador: 2\n",
            "10 / 2 = 5.0\n"
          ]
        }
      ]
    },
    {
      "cell_type": "code",
      "source": [
        "# 9\n",
        "x = int(input('Dame el valor del operador: '))\n",
        "y = int(input('Dame el valor de la potencia: '))\n",
        "\n",
        "print(f'{x} ** {y} = {x**y}')"
      ],
      "metadata": {
        "colab": {
          "base_uri": "https://localhost:8080/"
        },
        "id": "cB9Mwlm42jqN",
        "outputId": "b6299828-c91e-4cc7-95a8-8abc7d41bc2a"
      },
      "execution_count": null,
      "outputs": [
        {
          "output_type": "stream",
          "name": "stdout",
          "text": [
            "Dame el valor del operador: 2\n",
            "Dame el valor de la potencia: 3\n",
            "2 ** 3 = 8\n"
          ]
        }
      ]
    },
    {
      "cell_type": "code",
      "source": [
        "# 10\n",
        "x = int(input('Dame el valor del numerador: '))\n",
        "y = int(input('Dame el valor del demonidador: '))\n",
        "\n",
        "while y == 0:\n",
        "    print('No se puede dividir por cero')\n",
        "    y = int(input('Dame el valor del demonidador: '))\n",
        "print(f'{x} / {y} = {x // y}')\n",
        "\n"
      ],
      "metadata": {
        "colab": {
          "base_uri": "https://localhost:8080/"
        },
        "id": "jkxvBUZu4jXI",
        "outputId": "4825f438-213a-4943-b927-0db8b05f6fcc"
      },
      "execution_count": null,
      "outputs": [
        {
          "output_type": "stream",
          "name": "stdout",
          "text": [
            "Dame el valor del numerador: 10\n",
            "Dame el valor del demonidador: 0\n",
            "No se puede dividir por cero\n",
            "Dame el valor del demonidador: 2\n",
            "10 / 2 = 5\n"
          ]
        }
      ]
    },
    {
      "cell_type": "code",
      "source": [
        "# 11\n",
        "x = int(input('Dame el valor del numerador: '))\n",
        "y = int(input('Dame el valor del demonidador: '))\n",
        "\n",
        "while y == 0:\n",
        "    print('No se puede dividir por cero')\n",
        "    y = int(input('Dame el valor del demonidador: '))\n",
        "print(f'{x} / {y} = {x / y} y el resto de la division es {x % y}')"
      ],
      "metadata": {
        "colab": {
          "base_uri": "https://localhost:8080/"
        },
        "id": "UXaQNDHJ5Jsc",
        "outputId": "f3d93c20-8a41-4dc6-927d-15480e5444c4"
      },
      "execution_count": null,
      "outputs": [
        {
          "output_type": "stream",
          "name": "stdout",
          "text": [
            "Dame el valor del numerador: 10\n",
            "Dame el valor del demonidador: 3\n",
            "10 / 3 = 3.3333333333333335 y el resto de la division es 1\n"
          ]
        }
      ]
    },
    {
      "cell_type": "code",
      "source": [
        "# 12\n",
        "Nota1 = float(input('Dame la Nota 1: '))\n",
        "Nota2 = float(input('Dame la Nota 2: '))\n",
        "Nota3 = float(input('Dame la Nota 3: '))\n",
        "\n",
        "print(f'El promedio de las notas es {(Nota1 + Nota2 + Nota3) / 3}')\n"
      ],
      "metadata": {
        "colab": {
          "base_uri": "https://localhost:8080/"
        },
        "id": "3lZb3N5p6NdR",
        "outputId": "2674ffb3-75a9-4d66-ed8c-81f47ae2c594"
      },
      "execution_count": null,
      "outputs": [
        {
          "output_type": "stream",
          "name": "stdout",
          "text": [
            "Dame la Nota 1: 2\n",
            "Dame la Nota 2: 4\n",
            "Dame la Nota 3: 2\n",
            "El promedio de las notas es 2.6666666666666665\n"
          ]
        }
      ]
    },
    {
      "cell_type": "code",
      "source": [
        "#13\n",
        "\n",
        "numeros = [5, 12, 20, 15]\n",
        "pesos = [1, 2, 3, 4]\n",
        "\n",
        "sumaProductos = 0\n",
        "sumaPesos = 0\n",
        "\n",
        "for i in range(len(numeros)):\n",
        "  sumaProductos += numeros[i] * pesos[i]\n",
        "  sumaPesos += pesos[i]\n",
        "\n",
        "print(sumaProductos / sumaPesos)"
      ],
      "metadata": {
        "colab": {
          "base_uri": "https://localhost:8080/"
        },
        "id": "N8H_Mso37wOb",
        "outputId": "80393703-509a-4c38-bf2f-07c6ee8662b3"
      },
      "execution_count": null,
      "outputs": [
        {
          "output_type": "stream",
          "name": "stdout",
          "text": [
            "14.9\n"
          ]
        }
      ]
    },
    {
      "cell_type": "code",
      "source": [
        "#14\n",
        "\n",
        "frase = '\"La vida es un caramelo agrio\"'\n",
        "\n",
        "print(frase)"
      ],
      "metadata": {
        "id": "81KP-QscyP_L",
        "outputId": "66ea817f-8f86-435e-ad39-3e82ba05f5f0",
        "colab": {
          "base_uri": "https://localhost:8080/"
        }
      },
      "execution_count": null,
      "outputs": [
        {
          "output_type": "stream",
          "name": "stdout",
          "text": [
            "\"La vida es un caramelo agrio\"\n"
          ]
        }
      ]
    },
    {
      "cell_type": "code",
      "source": [
        "#15\n",
        "\n",
        "frase = input('Escriba una frase: ')\n",
        "print('\"', frase, '\"')"
      ],
      "metadata": {
        "id": "fpLTCG2cyzLd",
        "outputId": "75174f60-e858-46dd-dbdf-aa7a6cb376f5",
        "colab": {
          "base_uri": "https://localhost:8080/"
        }
      },
      "execution_count": null,
      "outputs": [
        {
          "output_type": "stream",
          "name": "stdout",
          "text": [
            "Escriba una frase: Eres hermosa como una flor\n",
            "\" Eres hermosa como una flor \"\n"
          ]
        }
      ]
    },
    {
      "cell_type": "code",
      "source": [
        "#16\n",
        "\n",
        "frase = input('Escriba una frase: ')\n",
        "print(f'\"{frase.upper()}\"')"
      ],
      "metadata": {
        "id": "bmV7VIZWzrv-",
        "outputId": "9f8b8829-b4d5-41d8-e6e9-7433e34324d8",
        "colab": {
          "base_uri": "https://localhost:8080/"
        }
      },
      "execution_count": null,
      "outputs": [
        {
          "output_type": "stream",
          "name": "stdout",
          "text": [
            "Escriba una frase: Soy lindo\n",
            "\"SOY LINDO\"\n"
          ]
        }
      ]
    },
    {
      "cell_type": "code",
      "source": [
        "#17\n",
        "\n",
        "frase = input('Escriba una frase: ')\n",
        "print(f'\"{frase.lower()}\"')"
      ],
      "metadata": {
        "id": "VLPqA-meIAph",
        "outputId": "2121cc36-eb5c-461f-afd9-78fec6ff7f01",
        "colab": {
          "base_uri": "https://localhost:8080/"
        }
      },
      "execution_count": null,
      "outputs": [
        {
          "output_type": "stream",
          "name": "stdout",
          "text": [
            "Escriba una frase: La vida es bella\n",
            "\"la vida es bella\"\n"
          ]
        }
      ]
    },
    {
      "cell_type": "code",
      "source": [
        "#18\n",
        "\n",
        "frase = ' \"Cada ves que no lo intentas, te alejas mas del exito\" '\n",
        "print(frase.strip())\n",
        "\n"
      ],
      "metadata": {
        "id": "dnZizFk1Ib9N",
        "outputId": "b38b2f8e-0707-40b7-8d28-3e9fc1a15c0c",
        "colab": {
          "base_uri": "https://localhost:8080/"
        }
      },
      "execution_count": null,
      "outputs": [
        {
          "output_type": "stream",
          "name": "stdout",
          "text": [
            "\"Cada ves que no lo intentas, te alejas mas del exito\"\n"
          ]
        }
      ]
    },
    {
      "cell_type": "code",
      "source": [
        "#19, 20, 21, 22, 23\n",
        "\n",
        "frase = input('Escriba una frase: ')\n",
        "print(' #19, 20, 21 \"{}\" '.format(frase.lower().strip().replace('e', 'f')))\n",
        "print('#22 \"{}\"' .format(frase.replace('a', '@').replace('A', '@')))\n",
        "print('#23 \"{}\"' .format(frase.replace('s', '$').replace('S', '$')))"
      ],
      "metadata": {
        "id": "NcIilxsvJr6h",
        "outputId": "7957e616-3751-4c8e-a247-7255c83a27e8",
        "colab": {
          "base_uri": "https://localhost:8080/"
        }
      },
      "execution_count": null,
      "outputs": [
        {
          "output_type": "stream",
          "name": "stdout",
          "text": [
            "Escriba una frase: La vida ES hermosa\n",
            " #19, 20, 21 \"la vida fs hfrmosa\" \n",
            "#22 \"L@ vid@ ES hermos@\"\n",
            "#23 \"La vida E$ hermo$a\"\n"
          ]
        }
      ]
    },
    {
      "cell_type": "code",
      "source": [],
      "metadata": {
        "id": "TByQkf2vNvT2"
      },
      "execution_count": null,
      "outputs": []
    },
    {
      "cell_type": "markdown",
      "source": [
        "# Estructuras condicionales"
      ],
      "metadata": {
        "id": "NwRaiHHHhhyl"
      }
    },
    {
      "cell_type": "code",
      "source": [
        "# Nota de aprobacion entre 7 y 10 == nota de aprobación >= 7\n",
        "# Nota de reprobaciòn es menor a 7 == nota de reprobacion < 7\n",
        "\"\"\"\n",
        "Si la nota es mayor o igual a 7 entonces el estudiante aprueba\n",
        "Si no, entonces el estudiante reprueba\n",
        "\"\"\"\n"
      ],
      "metadata": {
        "id": "pa4gLncu-mvU",
        "outputId": "1380f562-9fdd-4aca-de77-8db40ff6d4d5",
        "colab": {
          "base_uri": "https://localhost:8080/",
          "height": 36
        }
      },
      "execution_count": null,
      "outputs": [
        {
          "output_type": "execute_result",
          "data": {
            "text/plain": [
              "'\\nSi la nota es mayor o igual a 7 entonces el estudiante aprueba\\nSi no, entonces el estudiante reprueba\\n'"
            ],
            "application/vnd.google.colaboratory.intrinsic+json": {
              "type": "string"
            }
          },
          "metadata": {},
          "execution_count": 1
        }
      ]
    },
    {
      "cell_type": "code",
      "source": [],
      "metadata": {
        "id": "_cWRmDiE-m4p"
      },
      "execution_count": null,
      "outputs": []
    },
    {
      "cell_type": "code",
      "source": [],
      "metadata": {
        "id": "8uZvPV8N5ILG"
      },
      "execution_count": null,
      "outputs": []
    },
    {
      "cell_type": "markdown",
      "source": [
        "## `IF` y `ELSE`\n",
        "\n",
        "Los comandos `if` y `else` son dos estructuras condicionales. El comando `if` ejecutará el bloque de comandos en caso de que la condición citada sea  **verdadera**. El comando `else` ejecutará el bloque de comandos en el caso de que la condicional de `if` sea **falsa**."
      ],
      "metadata": {
        "id": "qXZqg9aYEhAh"
      }
    },
    {
      "cell_type": "markdown",
      "source": [
        "El comando `if` es una palabra clave en Python que significa \"si\". Este se emplea para conformar la estructura condicional, que te permite verificar si una determinada condición es verdadera o falsa e, inmediatamente después, ejecute un bloque de código específico dependiendo del resultado de la verificación. La sintaxis para usar el comando `if` es:\n",
        "\n",
        "\n",
        "\n",
        "```\n",
        "if condicion:\n",
        "    # Realiza algo\n",
        "```\n",
        "\n"
      ],
      "metadata": {
        "id": "EIhlqHXd2Gil"
      }
    },
    {
      "cell_type": "code",
      "source": [
        "if 2 < 7:\n",
        "  print('La condición es Verdadero')"
      ],
      "metadata": {
        "id": "S2S6XAFz-czM",
        "outputId": "d8876b6b-c336-46bb-906d-bddcc01c8aca",
        "colab": {
          "base_uri": "https://localhost:8080/"
        }
      },
      "execution_count": null,
      "outputs": [
        {
          "output_type": "stream",
          "name": "stdout",
          "text": [
            "Verdadero\n"
          ]
        }
      ]
    },
    {
      "cell_type": "code",
      "source": [
        "if 2 > 7:\n",
        "  print('La condicion es verdadera.')\n",
        "print('Fin de la consulta.')\n"
      ],
      "metadata": {
        "id": "YHkwMMyY-c1r",
        "outputId": "257f964f-b75b-4e85-9e0a-5193f1aaf188",
        "colab": {
          "base_uri": "https://localhost:8080/"
        }
      },
      "execution_count": null,
      "outputs": [
        {
          "output_type": "stream",
          "name": "stdout",
          "text": [
            "Fin de la consulta.\n"
          ]
        }
      ]
    },
    {
      "cell_type": "markdown",
      "source": [
        "Ya el comando `else` en Python se usa en junción con la palabra clave `if` para formar una estructura condicional. la sintaxis para usar el `else` es:\n",
        "\n",
        "```\n",
        "if condicion:\n",
        "  # codigo en caso de que sea verdad\n",
        "else:\n",
        "  # codigo en caso de que sea falso\n",
        "```\n",
        "\n",
        "el comando `else` se ejecuta cuando la condición verificada por el `if` es evaluada como `False`."
      ],
      "metadata": {
        "id": "27RW2v_sIKct"
      }
    },
    {
      "cell_type": "code",
      "source": [
        "if 2 > 7:\n",
        "  print('La condicion es verdadera.')\n",
        "else:\n",
        "  print('La condicion es falsa')\n",
        "print('Fin de la consulta.')"
      ],
      "metadata": {
        "id": "ZTfNJd_f-aOq",
        "outputId": "275b643c-2e11-4b90-dcfa-c37d9b925937",
        "colab": {
          "base_uri": "https://localhost:8080/"
        }
      },
      "execution_count": null,
      "outputs": [
        {
          "output_type": "stream",
          "name": "stdout",
          "text": [
            "La condicion es falsa\n",
            "Fin de la consulta.\n"
          ]
        }
      ]
    },
    {
      "cell_type": "code",
      "source": [],
      "metadata": {
        "id": "LPOb5MkV-btq"
      },
      "execution_count": null,
      "outputs": []
    },
    {
      "cell_type": "markdown",
      "source": [
        "---\n",
        "**Situación:**\n",
        "\n",
        "Recibiremos el promedio de la nota de los estudiantes y necesitamos de un algoritmo que ejecute el análisis y determine si el estudiante fue **Aprobado** o **Reprobado**, mostrando un mensaje del resultado. Para ser aprobado, el promedio necesita ser igual o superior a 7.0."
      ],
      "metadata": {
        "id": "BqORg85XX-Nl"
      }
    },
    {
      "cell_type": "code",
      "source": [
        "nota = float(input('Digita la nota:'))\n",
        "\n",
        "if nota >= 7:\n",
        "  print('Aprobo')\n",
        "if 7 > nota >= 5:\n",
        "  print('Recuperacion.')\n",
        "else:\n",
        "  print('Reprobo')"
      ],
      "metadata": {
        "id": "UukCN4AQ-YYW",
        "outputId": "304ab8ef-fd3a-4c5b-96cf-9eadb54c28e6",
        "colab": {
          "base_uri": "https://localhost:8080/",
          "height": 106
        }
      },
      "execution_count": null,
      "outputs": [
        {
          "output_type": "error",
          "ename": "SyntaxError",
          "evalue": "expected ':' (<ipython-input-16-4055f13026d8>, line 5)",
          "traceback": [
            "\u001b[0;36m  File \u001b[0;32m\"<ipython-input-16-4055f13026d8>\"\u001b[0;36m, line \u001b[0;32m5\u001b[0m\n\u001b[0;31m    else if 7 > nota >= 5:\u001b[0m\n\u001b[0m         ^\u001b[0m\n\u001b[0;31mSyntaxError\u001b[0m\u001b[0;31m:\u001b[0m expected ':'\n"
          ]
        }
      ]
    },
    {
      "cell_type": "code",
      "source": [],
      "metadata": {
        "id": "X0o8FW1H-YkA"
      },
      "execution_count": null,
      "outputs": []
    },
    {
      "cell_type": "markdown",
      "source": [
        "Ahora, nuestra institución educativa estableció que las personas que tengan el promedio entre 5.0 y 7.0 pueden participar del curso de **Recuperación** durante las vacaciones para lograr aprobar.\n",
        "\n",
        "Entonces podemos apoyarnos en un conjunto de `if`s para poder estructurar esta nueva condición."
      ],
      "metadata": {
        "id": "bD9O17HB6LUo"
      }
    },
    {
      "cell_type": "code",
      "source": [],
      "metadata": {
        "id": "G9cJ5O9--W52"
      },
      "execution_count": null,
      "outputs": []
    },
    {
      "cell_type": "code",
      "source": [],
      "metadata": {
        "id": "iU-pjoJt-W89"
      },
      "execution_count": null,
      "outputs": []
    },
    {
      "cell_type": "markdown",
      "source": [
        "Observa que en casos con 3 situaciones como este necesitamos definir bien nuestras condiciones. Pues, si realizamos una condición con `else` al final, este irá a considerar solamente la condición `if` inmediatamente anterior para generar la salida en caso de que el resultado de su operación lógica sea **falso** dando como resultado, dos o más ejecuciones.\n",
        "\n",
        "Por ejemplo:"
      ],
      "metadata": {
        "id": "D5e2mByjvycO"
      }
    },
    {
      "cell_type": "code",
      "source": [],
      "metadata": {
        "id": "C21JmOuK-VU8"
      },
      "execution_count": null,
      "outputs": []
    },
    {
      "cell_type": "code",
      "source": [],
      "metadata": {
        "id": "bHiVgnPs-Vlv"
      },
      "execution_count": null,
      "outputs": []
    },
    {
      "cell_type": "markdown",
      "source": [
        "## `ELIF`\n",
        "\n",
        "El comando `elif` es una palabra clave en Python que significa \"si no, si\" y lo podemos considerar una *contracción* entre `else` e `if`. Se utiliza en conjunto con la palabra clave `if` para formar una estructura condicional en cadena."
      ],
      "metadata": {
        "id": "04T5g-7h4zWx"
      }
    },
    {
      "cell_type": "markdown",
      "source": [
        "la sintaxis para utilizar el comando `elif` es:\n",
        "\n",
        "```\n",
        "if condicion1:\n",
        "    # Realiza algo\n",
        "elif condicion2:\n",
        "    # Realiza otra cosa\n",
        "elif condicion3:\n",
        "    # Realiza otra cosa\n",
        "else:\n",
        "    # Realiza algo diferente\n",
        "```\n",
        "\n",
        "El comando `elif` permite que puedas verificar varias condiciones en cadena, economizando espacio en tu código. Si la primera condición se evalúa como `False`, el interpretador de Python evaluará la próxima condición con el `elif`. Ello continuará hasta que una condición sea evaluada como `True` o hasta que el `else` sea alcazado. Si ninguna de las condiciones es evaluada como `True`, la ejecución del código del comando `else` será iniciada."
      ],
      "metadata": {
        "id": "rNBHr5mm1Lm6"
      }
    },
    {
      "cell_type": "markdown",
      "source": [
        "Vamos a emplear el mismo caso anterior:"
      ],
      "metadata": {
        "id": "MVoykFbB4bd4"
      }
    },
    {
      "cell_type": "code",
      "source": [
        "nota = float(input('Digita la nota:'))\n",
        "\n",
        "if nota >= 7:\n",
        "  print('Aprobo')\n",
        "elif 7 > nota >= 5:\n",
        "  print('Recuperacion.')\n",
        "else:\n",
        "  print('Reprobo')"
      ],
      "metadata": {
        "id": "QFamB78s-TW_",
        "outputId": "32d09784-40ee-4ca3-aab1-027cb525b089",
        "colab": {
          "base_uri": "https://localhost:8080/"
        }
      },
      "execution_count": null,
      "outputs": [
        {
          "output_type": "stream",
          "name": "stdout",
          "text": [
            "Digita la nota:7\n",
            "Aprobo\n"
          ]
        }
      ]
    },
    {
      "cell_type": "code",
      "source": [],
      "metadata": {
        "id": "nuScbnHF-TfK"
      },
      "execution_count": null,
      "outputs": []
    },
    {
      "cell_type": "markdown",
      "source": [
        "## Operadores\n",
        "\n",
        "Durante la construcción de comandos a veces necesitamos de una elaboración mayor de la expresión condicional, necesitando que algunos operadores lógicos se encuentren integrados."
      ],
      "metadata": {
        "id": "Tf1wSOem6iwZ"
      }
    },
    {
      "cell_type": "markdown",
      "source": [
        "### `AND`, `OR`, `NOT`\n",
        "\n",
        "Los operadores lógicos `and`, `or` y `not` son usados para combinar expresiones lógicas en Python. Ellos son usados frecuentemente en conjunto con el comando `if` para crear estructuras condicionales más complejas.\n"
      ],
      "metadata": {
        "id": "GFIZnRWXGPWO"
      }
    },
    {
      "cell_type": "markdown",
      "source": [
        "- `AND` es usado para verificar si dos condiciones son verdaderas. La expresión lógica¹ `x and y` se evalúa como `True` tan solo si **ambas condiciones `x` y `y` son verdaderas**, y como `False` en caso contrario.\n",
        "\n",
        "- `OR` es usado para verificar si al menos una de las condiciones es verdadera. La expresión lógica `x or y` se evalúa como `True` **si al menos una de las condiciones `x` o `y` es verdadera**, y como `False` si ambas condiciones son falsas.\n",
        "\n",
        "- `NOT` es usado para **negar una condición**. La expresión lógica `not x` es evaluada como `True` si la condición x es falsa, y como `False` si la condición x es verdadera.\n",
        "\n",
        "¹ Una expresión lógica es una declaración que puede ser evaluada como verdadera o falsa. Ella se compone por operandos lógicos² y por operadores lógicos³, que son usados ​​para combinar varias expresiones lógicas en una única expresión.\n",
        "\n",
        "² Los operandos lógicos son los elementos que son comparados o evaluados en una expresión lógica. Ellos son generalmente valores verdaderos o falsos, pero también pueden ser expresiones lógicas más complejas. En Python, los operandos lógicos son los valores `True` y `False`.\n",
        "\n",
        "³ Los operadores lógicos son ls símbolos o palabras clave que son usados ​​para combinar varias expresiones lógicas en una única expresión. En Python, los operadores lógicos son `and`, `or` y `not`, bien como las palabras clave `if`, `elif` e `else`."
      ],
      "metadata": {
        "id": "Z_dgAoHXJbzB"
      }
    },
    {
      "cell_type": "markdown",
      "source": [
        "> Operadores lógicos más comunes\n",
        "\n",
        "|a|b|AND|OR|NOT|\n",
        "|-|-|-|-|-|\n",
        "|0|0|0|0|1\n",
        "|0|1|0|1|-\n",
        "|1|0|0|1|-\n",
        "|1|1|1|1|0\n"
      ],
      "metadata": {
        "id": "2E5aUogf-49u"
      }
    },
    {
      "cell_type": "code",
      "source": [
        "v = True\n",
        "f = False"
      ],
      "metadata": {
        "id": "DFKmpvmS-Pa6"
      },
      "execution_count": null,
      "outputs": []
    },
    {
      "cell_type": "code",
      "source": [
        "if f and f:\n",
        "  print('La condicion es verdadera.')\n",
        "else:\n",
        "  print('La condicion es falsa.')"
      ],
      "metadata": {
        "id": "W5BIrpOD-PeI",
        "outputId": "45d8279b-fcbb-4bf7-d57f-47b60918dc71",
        "colab": {
          "base_uri": "https://localhost:8080/"
        }
      },
      "execution_count": null,
      "outputs": [
        {
          "output_type": "stream",
          "name": "stdout",
          "text": [
            "La condicion es falsa.\n"
          ]
        }
      ]
    },
    {
      "cell_type": "code",
      "source": [
        "if v or v:\n",
        "  print('La condicion es verdadera.')\n",
        "else:\n",
        "  print('La condicion es falsa.')"
      ],
      "metadata": {
        "id": "fpDhYxq4-PiM",
        "outputId": "31ca8f17-4a23-475e-b830-e1e6c9cdefb3",
        "colab": {
          "base_uri": "https://localhost:8080/"
        }
      },
      "execution_count": null,
      "outputs": [
        {
          "output_type": "stream",
          "name": "stdout",
          "text": [
            "La condicion es verdadera.\n"
          ]
        }
      ]
    },
    {
      "cell_type": "code",
      "source": [
        "if not f:\n",
        "  print('La condicion es verdadera.')\n",
        "else:\n",
        "  print('La condicion es falsa.')"
      ],
      "metadata": {
        "id": "gkwjRh8d1MVE",
        "outputId": "46f84c6c-a74e-433e-a68b-0049c1ca939b",
        "colab": {
          "base_uri": "https://localhost:8080/"
        }
      },
      "execution_count": null,
      "outputs": [
        {
          "output_type": "stream",
          "name": "stdout",
          "text": [
            "La condicion es verdadera.\n"
          ]
        }
      ]
    },
    {
      "cell_type": "markdown",
      "source": [
        "### `IN`\n",
        "\n",
        "Es usado para verificar si un elemento está presente en una lista, tupla u otra colección de conjunto. La expresión `x in y` se evalúa como `True` si el elemento `x` esta presente na variávelen la variable de conjunto `y`, y como `False` en caso contrario."
      ],
      "metadata": {
        "id": "w7EXG1dhWtja"
      }
    },
    {
      "cell_type": "markdown",
      "source": [
        "Podemos verificarlo con variables de texto.\n",
        "\n",
        "---\n",
        "\n",
        "**Situación:**\n",
        "\n",
        "En la escuela nos entregaron una lista con nombres de estudiantes que fueron aprobados según el promedio del semestre, pero es necesario verificar si algunos nombres están en esa lista para confirmar que los datos estén correctos.\n",
        "\n",
        "La lista distribuida puede ser observada a continuación:\n",
        "\n",
        "```\n",
        "lista = 'Juan Pérez, María González, Pedro Rodríguez, Ana López, Carlos Martínez,\n",
        "    Laura Sánchez, José García, Elena Fernández, Luis Morales, Carmen Torres,\n",
        "    David Ruiz, Isabel Ramírez, Javier Díaz, Sara Herrera, Miguel Castro,\n",
        "    Patricia Ortega, Francisco Vargas, Marta Jiménez, Manuel Medina, Rosa Molina,\n",
        "    Alejandro Silva, Silvia Ruiz, Andrés Torres, Natalia Soto, Diego Guerrero,\n",
        "    Paula Ríos, Ricardo Navarro, Alicia Cordero, Carlos Vidal, Lorena Gómez'\n",
        "```\n",
        "\n",
        "Los nombres que necesitas verificar son los siguientes:\n",
        "\n",
        "```\n",
        "nombre_1 = 'Miguel Castro'\n",
        "nombre_2 = 'Marcelo Noguera'\n",
        "```"
      ],
      "metadata": {
        "id": "enJNp6JenQbq"
      }
    },
    {
      "cell_type": "code",
      "source": [
        "lista = 'Juan Pérez, María González, Pedro Rodríguez, Ana López, Carlos Martínez, Laura Sánchez, José García, Elena Fernández, Luis Morales, Carmen Torres, David Ruiz, Isabel Ramírez, Javier Díaz, Sara Herrera, Miguel Castro, Patricia Ortega, Francisco Vargas, Marta Jiménez, Manuel Medina, Rosa Molina, Alejandro Silva, Silvia Ruiz, Andrés Torres, Natalia Soto, Diego Guerrero, Paula Ríos, Ricardo Navarro, Alicia Cordero, Carlos Vidal, Lorena Gómez'"
      ],
      "metadata": {
        "id": "gPPN9BCT-Mki"
      },
      "execution_count": null,
      "outputs": []
    },
    {
      "cell_type": "code",
      "source": [
        "nombre_1 = 'Miguel Castro'\n",
        "nombre_2 = 'Marcelo Noguera'"
      ],
      "metadata": {
        "id": "GINbG3Fa-Mnb"
      },
      "execution_count": null,
      "outputs": []
    },
    {
      "cell_type": "code",
      "source": [
        "if nombre_1 in lista:\n",
        "  print('El estudiante aprobo.')\n",
        "else:\n",
        "  print('El estudiante reprobó')"
      ],
      "metadata": {
        "id": "hk-RhNRT-Mp7",
        "outputId": "1d2af541-2651-4c48-eec0-44d823f905d8",
        "colab": {
          "base_uri": "https://localhost:8080/"
        }
      },
      "execution_count": null,
      "outputs": [
        {
          "output_type": "stream",
          "name": "stdout",
          "text": [
            "El estudiante aprobo.\n"
          ]
        }
      ]
    },
    {
      "cell_type": "code",
      "source": [
        "if nombre_2 in lista:\n",
        "  print('El estudiante aprobo.')\n",
        "else:\n",
        "  print('El estudiante reprobó')"
      ],
      "metadata": {
        "id": "lmiMCbN_2U2W",
        "outputId": "0309ad1a-fe2c-4690-bb90-1d34577088f1",
        "colab": {
          "base_uri": "https://localhost:8080/"
        }
      },
      "execution_count": null,
      "outputs": [
        {
          "output_type": "stream",
          "name": "stdout",
          "text": [
            "El estudiante reprobó\n"
          ]
        }
      ]
    },
    {
      "cell_type": "code",
      "source": [
        "# Desafio 3\n",
        "\n",
        "# 1\n",
        "\n",
        "Numero1 = int(input('Dame el primer numero: '))\n",
        "Numero2 = int(input('Dame el segundo numero: '))\n",
        "\n",
        "if Numero1 > Numero2:\n",
        "  print('El {} es mayor que el {}' .format(Numero1, Numero2))\n",
        "else:\n",
        "  print('El {} es mayor que el {}' .format(Numero2, Numero1))"
      ],
      "metadata": {
        "id": "kS73JF6V3NkK",
        "outputId": "750b2968-0cf2-438c-d289-f83634919669",
        "colab": {
          "base_uri": "https://localhost:8080/"
        }
      },
      "execution_count": null,
      "outputs": [
        {
          "output_type": "stream",
          "name": "stdout",
          "text": [
            "Dame el primer numero:2\n",
            "Dame el segundo numero:7\n",
            "El 7 es mayor que el 2\n"
          ]
        }
      ]
    },
    {
      "cell_type": "code",
      "source": [
        "# 2\n",
        "\n",
        "porcentaje = float(input('Escribe el porcentaje de crecimiento de la empresa'))\n",
        "\n",
        "if porcentaje >= 55:\n",
        "  print('La empresa a crecido ')\n",
        "elif porcentaje >= 50:\n",
        "  print('La empresa a igualado ')\n",
        "else:\n",
        "  print('La empresa a disminuido ')"
      ],
      "metadata": {
        "id": "NYyKQqLo5tqK",
        "outputId": "3edcbdfb-bf74-4be2-bb15-0a78327e8916",
        "colab": {
          "base_uri": "https://localhost:8080/",
          "height": 356
        }
      },
      "execution_count": null,
      "outputs": [
        {
          "output_type": "error",
          "ename": "KeyboardInterrupt",
          "evalue": "Interrupted by user",
          "traceback": [
            "\u001b[0;31m---------------------------------------------------------------------------\u001b[0m",
            "\u001b[0;31mKeyboardInterrupt\u001b[0m                         Traceback (most recent call last)",
            "\u001b[0;32m<ipython-input-49-87fde5c5f73d>\u001b[0m in \u001b[0;36m<cell line: 0>\u001b[0;34m()\u001b[0m\n\u001b[1;32m      1\u001b[0m \u001b[0;31m# 2\u001b[0m\u001b[0;34m\u001b[0m\u001b[0;34m\u001b[0m\u001b[0m\n\u001b[1;32m      2\u001b[0m \u001b[0;34m\u001b[0m\u001b[0m\n\u001b[0;32m----> 3\u001b[0;31m \u001b[0mporcentaje\u001b[0m \u001b[0;34m=\u001b[0m \u001b[0mfloat\u001b[0m\u001b[0;34m(\u001b[0m\u001b[0minput\u001b[0m\u001b[0;34m(\u001b[0m\u001b[0;34m'Escribe el porcentaje de crecimiento de la empresa'\u001b[0m\u001b[0;34m)\u001b[0m\u001b[0;34m)\u001b[0m\u001b[0;34m\u001b[0m\u001b[0;34m\u001b[0m\u001b[0m\n\u001b[0m\u001b[1;32m      4\u001b[0m \u001b[0;34m\u001b[0m\u001b[0m\n\u001b[1;32m      5\u001b[0m \u001b[0;32mif\u001b[0m \u001b[0mporcentaje\u001b[0m \u001b[0;34m>=\u001b[0m \u001b[0;36m55\u001b[0m\u001b[0;34m:\u001b[0m\u001b[0;34m\u001b[0m\u001b[0;34m\u001b[0m\u001b[0m\n",
            "\u001b[0;32m/usr/local/lib/python3.11/dist-packages/ipykernel/kernelbase.py\u001b[0m in \u001b[0;36mraw_input\u001b[0;34m(self, prompt)\u001b[0m\n\u001b[1;32m   1175\u001b[0m                 \u001b[0;34m\"raw_input was called, but this frontend does not support input requests.\"\u001b[0m\u001b[0;34m\u001b[0m\u001b[0;34m\u001b[0m\u001b[0m\n\u001b[1;32m   1176\u001b[0m             )\n\u001b[0;32m-> 1177\u001b[0;31m         return self._input_request(\n\u001b[0m\u001b[1;32m   1178\u001b[0m             \u001b[0mstr\u001b[0m\u001b[0;34m(\u001b[0m\u001b[0mprompt\u001b[0m\u001b[0;34m)\u001b[0m\u001b[0;34m,\u001b[0m\u001b[0;34m\u001b[0m\u001b[0;34m\u001b[0m\u001b[0m\n\u001b[1;32m   1179\u001b[0m             \u001b[0mself\u001b[0m\u001b[0;34m.\u001b[0m\u001b[0m_parent_ident\u001b[0m\u001b[0;34m[\u001b[0m\u001b[0;34m\"shell\"\u001b[0m\u001b[0;34m]\u001b[0m\u001b[0;34m,\u001b[0m\u001b[0;34m\u001b[0m\u001b[0;34m\u001b[0m\u001b[0m\n",
            "\u001b[0;32m/usr/local/lib/python3.11/dist-packages/ipykernel/kernelbase.py\u001b[0m in \u001b[0;36m_input_request\u001b[0;34m(self, prompt, ident, parent, password)\u001b[0m\n\u001b[1;32m   1217\u001b[0m             \u001b[0;32mexcept\u001b[0m \u001b[0mKeyboardInterrupt\u001b[0m\u001b[0;34m:\u001b[0m\u001b[0;34m\u001b[0m\u001b[0;34m\u001b[0m\u001b[0m\n\u001b[1;32m   1218\u001b[0m                 \u001b[0;31m# re-raise KeyboardInterrupt, to truncate traceback\u001b[0m\u001b[0;34m\u001b[0m\u001b[0;34m\u001b[0m\u001b[0m\n\u001b[0;32m-> 1219\u001b[0;31m                 \u001b[0;32mraise\u001b[0m \u001b[0mKeyboardInterrupt\u001b[0m\u001b[0;34m(\u001b[0m\u001b[0;34m\"Interrupted by user\"\u001b[0m\u001b[0;34m)\u001b[0m \u001b[0;32mfrom\u001b[0m \u001b[0;32mNone\u001b[0m\u001b[0;34m\u001b[0m\u001b[0;34m\u001b[0m\u001b[0m\n\u001b[0m\u001b[1;32m   1220\u001b[0m             \u001b[0;32mexcept\u001b[0m \u001b[0mException\u001b[0m\u001b[0;34m:\u001b[0m\u001b[0;34m\u001b[0m\u001b[0;34m\u001b[0m\u001b[0m\n\u001b[1;32m   1221\u001b[0m                 \u001b[0mself\u001b[0m\u001b[0;34m.\u001b[0m\u001b[0mlog\u001b[0m\u001b[0;34m.\u001b[0m\u001b[0mwarning\u001b[0m\u001b[0;34m(\u001b[0m\u001b[0;34m\"Invalid Message:\"\u001b[0m\u001b[0;34m,\u001b[0m \u001b[0mexc_info\u001b[0m\u001b[0;34m=\u001b[0m\u001b[0;32mTrue\u001b[0m\u001b[0;34m)\u001b[0m\u001b[0;34m\u001b[0m\u001b[0;34m\u001b[0m\u001b[0m\n",
            "\u001b[0;31mKeyboardInterrupt\u001b[0m: Interrupted by user"
          ]
        }
      ]
    },
    {
      "cell_type": "code",
      "source": [
        "# 3\n",
        "\n",
        "listaVocal = 'A, E, I, O, U, a, e, i, o, u'\n",
        "\n",
        "letra = input('Escribe una letra: ')\n",
        "\n",
        "if letra in listaVocal:\n",
        "  print('La letra {} es una vocal' .format(letra))\n",
        "else:\n",
        "  print('La letra {} es una consonante' .format(letra))"
      ],
      "metadata": {
        "id": "tSO3jScmABiZ",
        "outputId": "f6e54987-30af-420d-8375-8b2f43df66a7",
        "colab": {
          "base_uri": "https://localhost:8080/"
        }
      },
      "execution_count": null,
      "outputs": [
        {
          "output_type": "stream",
          "name": "stdout",
          "text": [
            "Escribe una letra: B\n",
            "La letra B es una consonante\n"
          ]
        }
      ]
    },
    {
      "cell_type": "code",
      "source": [
        "# 4\n",
        "\n",
        "año1 = float(input('Escribe el valor del año 1: '))\n",
        "año2 = float(input('Escribe el valor del año 2: '))\n",
        "año3 = float(input('Escribe el valor del año 3: '))\n",
        "\n",
        "if año1 > año2 and año1 > año3:\n",
        "  print('El año 1 tuvo el valor más alto: {}' .format(año1))\n",
        "  if año2 > año3:\n",
        "    print('El año 3 tuvo el valor más bajo {}' .format(año3))\n",
        "  else:\n",
        "    print('El año 2 tuvo el valor más bajo {}' .format(año2))\n",
        "\n",
        "elif año2 > año1 and año2 > año3:\n",
        "  print('El año 2 tuvo el valor más alto: {}' .format(año2))\n",
        "  if año1 > año3:\n",
        "    print('El año 3 tuvo el valor más bajo {}' .format(año3))\n",
        "  else:\n",
        "    print('El año 1 tuvo el valor más bajo {}' .format(año1))\n",
        "\n",
        "else:\n",
        "  print('El año 3 tuvo el valor más alto: {}' .format(año3))\n",
        "  if año1 > año2:\n",
        "    print('El año 2 tuvo el valor más bajo {}' .format(año2))\n",
        "  else:\n",
        "    print('El año 1 tuvo el valor más bajo {}' .format(año1))"
      ],
      "metadata": {
        "id": "hOD2r98XBNJ9",
        "outputId": "6cf3d5ff-03ee-4e70-af67-4c22e7699c39",
        "colab": {
          "base_uri": "https://localhost:8080/"
        }
      },
      "execution_count": null,
      "outputs": [
        {
          "output_type": "stream",
          "name": "stdout",
          "text": [
            "Escribe el valor del año 1: 88\n",
            "Escribe el valor del año 2: 99\n",
            "Escribe el valor del año 3: 100\n",
            "El año 3 tuvo el valor más alto: 100.0\n",
            "El año 1 tuvo el valor más bajo 88.0\n"
          ]
        }
      ]
    },
    {
      "cell_type": "code",
      "source": [
        "# 5\n",
        "\n",
        "\n",
        "producto1 = float(input('Escribe el valor del producto 1: '))\n",
        "producto2 = float(input('Escribe el valor del producto 2: '))\n",
        "producto3 = float(input('Escribe el valor del producto 3: '))\n",
        "\n",
        "if producto1 < producto2 and producto1 < producto3:\n",
        "  print('El producto 1 es el más barato para comprar: ${}' .format(producto1))\n",
        "\n",
        "elif producto2 < producto1 and producto2 < producto3:\n",
        "  print('El producto 2 es el más barato para comprar: ${}' .format(producto2))\n",
        "\n",
        "else:\n",
        "  print('El producto 3 es el más barato para comprar: ${}' .format(producto3))\n"
      ],
      "metadata": {
        "id": "577rsppSEnrL",
        "outputId": "f475a895-50f3-43fc-f11a-2ffc9b123192",
        "colab": {
          "base_uri": "https://localhost:8080/"
        }
      },
      "execution_count": null,
      "outputs": [
        {
          "output_type": "stream",
          "name": "stdout",
          "text": [
            "Escribe el valor del producto 1: 9\n",
            "Escribe el valor del producto 2: 22\n",
            "Escribe el valor del producto 3: 1\n",
            "El producto 3 es el más barato para comprar: $1.0\n"
          ]
        }
      ]
    },
    {
      "cell_type": "code",
      "source": [
        "# 6\n",
        "\n",
        "numero1 = float(input('Escribe el valor del numero 1: '))\n",
        "numero2 = float(input('Escribe el valor del numero 2: '))\n",
        "numero3 = float(input('Escribe el valor del numero 3: '))\n",
        "\n",
        "if numero1 < numero2 and  numero1 < numero3:\n",
        "  print(numero1)\n",
        "  if numero2 < numero3:\n",
        "    print(numero2)\n",
        "    print(numero3)\n",
        "  else:\n",
        "    print(numero3)\n",
        "    print(numero2)\n",
        "\n",
        "elif numero2 < numero1 and  numero2 < numero3:\n",
        "  print(numero2)\n",
        "  if numero1 < numero3:\n",
        "    print(numero1)\n",
        "    print(numero3)\n",
        "  else:\n",
        "    print(numero3)\n",
        "    print(numero1)\n",
        "\n",
        "else:\n",
        "  print(numero3)\n",
        "  if numero1 < numero2:\n",
        "    print(numero1)\n",
        "    print(numero2)\n",
        "  else:\n",
        "    print(numero2)\n",
        "    print(numero1)\n",
        "\n"
      ],
      "metadata": {
        "id": "sngKm8ceF72a",
        "outputId": "c6ce9c64-4355-455c-e929-5b348dd6f955",
        "colab": {
          "base_uri": "https://localhost:8080/"
        }
      },
      "execution_count": null,
      "outputs": [
        {
          "output_type": "stream",
          "name": "stdout",
          "text": [
            "Escribe el valor del numero 1: 7\n",
            "Escribe el valor del numero 2: 1\n",
            "Escribe el valor del numero 3: 5\n",
            "1.0\n",
            "5.0\n",
            "7.0\n"
          ]
        }
      ]
    },
    {
      "cell_type": "code",
      "source": [
        "# 7\n",
        "\n",
        "turno = input('Escribe en que turno estudias: ')\n",
        "\n",
        "if turno == 'mañana' or turno == 'Mañana' or turno == 'MAÑANA':\n",
        "  print('¡Buenos Días!')\n",
        "elif turno == 'tarde' or turno == 'Tarde' or turno ==  'TARDE':\n",
        "  print('¡Buenas Tardes!')\n",
        "\n",
        "elif turno == 'noche' or turno == 'Noche' or turno == 'NOCHE':\n",
        "  print('¡Buenas Noches!')\n",
        "\n",
        "else:\n",
        "  print('Turno Invalido')\n"
      ],
      "metadata": {
        "id": "xxF7s8RdK00N",
        "outputId": "2c69ebd1-e0d9-4404-b57a-3e5a86880ecd",
        "colab": {
          "base_uri": "https://localhost:8080/"
        }
      },
      "execution_count": null,
      "outputs": [
        {
          "output_type": "stream",
          "name": "stdout",
          "text": [
            "Escribe en que turno estudias: Tarde\n",
            "¡Buenas Tardes!\n"
          ]
        }
      ]
    },
    {
      "cell_type": "code",
      "source": [
        "# 8\n",
        "\n",
        "numero = int(input('Escribe un numero entero: '))\n",
        "\n",
        "if numero % 2 == 0:\n",
        "  print('El numero {} es par' .format(numero))\n",
        "else:\n",
        "  print('El numero {} es impar' .format(numero))"
      ],
      "metadata": {
        "id": "zNuKdyJJSelf",
        "outputId": "0824a2d0-8242-4099-946a-baa990d1efa5",
        "colab": {
          "base_uri": "https://localhost:8080/"
        }
      },
      "execution_count": null,
      "outputs": [
        {
          "output_type": "stream",
          "name": "stdout",
          "text": [
            "Escribe un numero entero: 4\n",
            "El numero 4 es par\n"
          ]
        }
      ]
    },
    {
      "cell_type": "code",
      "source": [
        "# 9\n",
        "\n",
        "numero = input('Escribe un numero: ')\n",
        "\n",
        "if '.' in numero:\n",
        "  numero = float(numero)\n",
        "  print('El numero {} es decimal' .format(numero))\n",
        "\n",
        "elif int(numero):\n",
        " print('El numero {} es entero' .format(numero))\n"
      ],
      "metadata": {
        "id": "LdivlTD6U7tu",
        "outputId": "1033e598-b82e-483f-9d52-cc0110d6781a",
        "colab": {
          "base_uri": "https://localhost:8080/",
          "height": 106
        }
      },
      "execution_count": null,
      "outputs": [
        {
          "output_type": "error",
          "ename": "SyntaxError",
          "evalue": "invalid syntax (<ipython-input-105-98bf45a0e83b>, line 11)",
          "traceback": [
            "\u001b[0;36m  File \u001b[0;32m\"<ipython-input-105-98bf45a0e83b>\"\u001b[0;36m, line \u001b[0;32m11\u001b[0m\n\u001b[0;31m    except ValueError:\u001b[0m\n\u001b[0m    ^\u001b[0m\n\u001b[0;31mSyntaxError\u001b[0m\u001b[0;31m:\u001b[0m invalid syntax\n"
          ]
        }
      ]
    },
    {
      "cell_type": "code",
      "source": [
        "#10\n",
        "\n",
        "numero1 = input('Escribe el primer numero:'))\n",
        "numero2 = input('Escribe el segundo numero:'))\n",
        "operacion = int(input('Escribe la operacion que quieras realizar:\\n1. Suma\\n2. Resta \\n3. Multiplicación\\n4. División\\n'))\n",
        "\n",
        "\n",
        "if operacion == 1:\n",
        "  resultado = numero1 + numero2\n",
        "\n",
        "  print('El resultado de la suma de {} + {} es: {}' .format(numero1, numero2, resultado))\n",
        "\n",
        "if resultado % 2 == 0:\n",
        "    print('El resultado es par')\n",
        "else:\n",
        "    print('El resultado es impar')\n",
        "\n",
        "if resultado > 0:\n",
        "    print('El resultado es positivo')\n",
        "else:\n",
        "      print('El resultado es negativo')\n",
        "\n",
        "\n",
        "if '.' in resultado:\n",
        "    resultado = float(resultado)\n",
        "\n",
        "elif int(resultado):\n",
        "    resultado = int(resultado)\n",
        "\n",
        "\n"
      ],
      "metadata": {
        "colab": {
          "base_uri": "https://localhost:8080/"
        },
        "id": "bAoeNz5ahRbW",
        "outputId": "b45ad1b3-0abf-4fb7-ed9c-23d3d355d809"
      },
      "execution_count": null,
      "outputs": [
        {
          "output_type": "stream",
          "name": "stdout",
          "text": [
            "Escribe el primer numero:1\n",
            "Escribe el segundo numero:2\n",
            "Escribe la operacion que quieras realizar:\n",
            "1. Suma\n",
            "2. Resta \n",
            "3. Multiplicación\n",
            "4. División\n",
            "1\n",
            "El resultado de la suma de 1.0 + 2.0 es: 3.0\n",
            "El resultado es impar\n",
            "El resultado es positivo\n",
            "f\n"
          ]
        }
      ]
    },
    {
      "cell_type": "code",
      "source": [
        "#10\n",
        "\n",
        "numero1 = float(input('Escribe el primer numero: '))\n",
        "numero2 = float(input('Escribe el segundo numero: '))\n",
        "operacion = int(input('Escribe la operacion que quieras realizar:\\n1. Suma\\n2. Resta \\n3. Multiplicación\\n4. División\\n'))\n",
        "\n",
        "if numero1.is_integer():\n",
        "    numero1 = int(numero1)\n",
        "else:\n",
        "  numero1 = float(numero1)\n",
        "\n",
        "if numero2.is_integer():\n",
        "    numero2 = int(numero2)\n",
        "else:\n",
        "  numero2 = float(numero2)\n",
        "\n",
        "if operacion == 1:\n",
        "  resultado = numero1 + numero2\n",
        "  if type(resultado) == int or resultado.is_integer():\n",
        "    resultado = int(resultado)\n",
        "    print(' \\nEl resultado de la suma de {} + {} es: {}' .format(numero1, numero2, resultado))\n",
        "  else:\n",
        "    resultado = float(resultado)\n",
        "    print(' \\nEl resultado de la suma de {} + {} es: {}' .format(numero1, numero2, resultado))\n",
        "\n",
        "if operacion == 2:\n",
        "  resultado = numero1 - numero2\n",
        "  if type(resultado) == int or resultado.is_integer():\n",
        "    resultado = int(resultado)\n",
        "    print(' \\nEl resultado de la suma de {} + {} es: {}' .format(numero1, numero2, resultado))\n",
        "  else:\n",
        "    resultado = float(resultado)\n",
        "    print(' \\nEl resultado de la suma de {} + {} es: {}' .format(numero1, numero2, resultado))\n",
        "\n",
        "if operacion == 3:\n",
        "  resultado = numero1 * numero2\n",
        "  if type(resultado) == int or resultado.is_integer():\n",
        "    resultado = int(resultado)\n",
        "    print(' \\nEl resultado de la suma de {} + {} es: {}' .format(numero1, numero2, resultado))\n",
        "  else:\n",
        "    resultado = float(resultado)\n",
        "    print(' \\nEl resultado de la suma de {} + {} es: {}' .format(numero1, numero2, resultado))\n",
        "\n",
        "if operacion == 4:\n",
        "  resultado = numero1 / numero2\n",
        "  if type(resultado) == int or resultado.is_integer():\n",
        "    resultado = int(resultado)\n",
        "    print(' \\nEl resultado de la suma de {} + {} es: {}' .format(numero1, numero2, resultado))\n",
        "  else:\n",
        "    resultado = float(resultado)\n",
        "    print(' \\nEl resultado de la suma de {} + {} es: {}' .format(numero1, numero2, resultado))\n",
        "\n",
        "if resultado % 2 == 0:\n",
        "    print('El resultado es PAR')\n",
        "else:\n",
        "    print('El resultado es IMPAR')\n",
        "\n",
        "if resultado > 0:\n",
        "    print('El resultado es POSITIVO')\n",
        "else:\n",
        "      print('El resultado es NEGATIVO')\n",
        "\n",
        "\n",
        "if type(resultado) == int or resultado.is_integer():\n",
        "    print('El resultado es ENTERO')\n",
        "else:\n",
        "  print('El resultado es DECIMAL')\n",
        "\n",
        "\n"
      ],
      "metadata": {
        "outputId": "b1f6c2cb-2c66-4fde-b850-fc3899f9e084",
        "colab": {
          "base_uri": "https://localhost:8080/"
        },
        "id": "H4zJuGzlmnbU"
      },
      "execution_count": null,
      "outputs": [
        {
          "output_type": "stream",
          "name": "stdout",
          "text": [
            "Escribe el primer numero: 44\n",
            "Escribe el segundo numero: 2\n",
            "Escribe la operacion que quieras realizar:\n",
            "1. Suma\n",
            "2. Resta \n",
            "3. Multiplicación\n",
            "4. División\n",
            "4\n",
            " \n",
            "El resultado de la suma de 44 + 2 es: 22\n",
            "El resultado es PAR\n",
            "El resultado es POSITIVO\n",
            "El resultado es ENTERO\n"
          ]
        }
      ]
    },
    {
      "cell_type": "code",
      "source": [
        "#11\n",
        "\n",
        "lado1 = float(input('Escribe el valor del lado 1: '))\n",
        "lado2 = float(input('Escribe el valor del lado 2: '))\n",
        "lado3 = float(input('Escribe el valor del lado 3: '))\n",
        "\n",
        "resultado = lado1 + lado2\n",
        "\n",
        "if resultado > lado3:\n",
        "  if lado1 == lado2 and lado1 == lado3:\n",
        "    print('El triangulo es EQUILATERO')\n",
        "  elif lado1 == lado2 or lado1 == lado3 or lado2 == lado3:\n",
        "      print('El triangulo es ISÓSCELES')\n",
        "  else:\n",
        "     print('El triangulo es ESCALENO')\n",
        "else:\n",
        "  print('Triangulo no valido')"
      ],
      "metadata": {
        "id": "7CCYWiClxOP4",
        "outputId": "3e435b67-bd59-4dd2-be28-7cd969b8febc",
        "colab": {
          "base_uri": "https://localhost:8080/"
        }
      },
      "execution_count": null,
      "outputs": [
        {
          "output_type": "stream",
          "name": "stdout",
          "text": [
            "Escribe el valor del lado 1: 3\n",
            "Escribe el valor del lado 2: 4\n",
            "Escribe el valor del lado 3: 6\n",
            "El triangulo es ESCALENO\n"
          ]
        }
      ]
    },
    {
      "cell_type": "code",
      "source": [
        "#12\n",
        "\n",
        "combustible = input('Escribe el tipo de combustible a comprar:\\n (E)Etanol\\n (D)Diésel\\n')\n",
        "litros = float(input('Escribe la cantidad de litros que quieras comprar: '))\n",
        "\n",
        "if combustible == 'E' or combustible == 'e':\n",
        "  precio = 1.70\n",
        "  if litros <= 15:\n",
        "    descuento = 2\n",
        "  else:\n",
        "    descuento = 4\n",
        "\n",
        "if combustible == 'D' or combustible == 'd':\n",
        "    precio = 2.00\n",
        "    if litros <= 15:\n",
        "      descuento = 3\n",
        "    else:\n",
        "      descuento = 5\n",
        "\n",
        "valorLitros = ((litros*precio)*descuento)/100\n",
        "valorLitros = (litros*precio)-valorLitros\n",
        "print('Litros: {}   Precio por litro: ${}\\nPrecio Total: ${} - Descuento {}%\\n---------------------------\\nVALOR FINAL A PAGAR: ${}' .format(litros, precio, litros*precio, descuento, valorLitros))\n",
        "\n"
      ],
      "metadata": {
        "id": "l9M24bmQ0x_H",
        "outputId": "43ed9317-0c75-4163-df29-4c431dbbdbd2",
        "colab": {
          "base_uri": "https://localhost:8080/"
        }
      },
      "execution_count": null,
      "outputs": [
        {
          "output_type": "stream",
          "name": "stdout",
          "text": [
            "Escribe el tipo de combustible a comprar:\n",
            " (E)Etanol\n",
            " (D)Diésel\n",
            "e\n",
            "Escribe la cantidad de litros que quieras comprar: 15\n",
            "Litros: 15.0   Precio por litro: $1.7\n",
            "Precio Total: $25.5 - Descuento 2%\n",
            "---------------------------\n",
            "VALOR FINAL A PAGAR: $24.99\n"
          ]
        }
      ]
    },
    {
      "cell_type": "code",
      "source": [
        "# 13\n",
        "\n",
        "ventas2022 = float(input('Escribe la cantidad de ventas del año 2022: '))\n",
        "ventas2023 = float(input('Escribe la cantidad de ventas del año 2023: '))\n",
        "\n",
        "variacionPorcentual = ((ventas2023 - ventas2022)/ventas2022)*100\n",
        "\n",
        "if variacionPorcentual > 20:\n",
        "  print('\\nVariacion Porcentual 2022 y 2023: {}%\\nPor una variacion superior al 20%, El equipos de ventas obtendran una bonificación en los proximos días' .format(variacionPorcentual))\n",
        "elif variacionPorcentual >= 2:\n",
        "  print('\\nVariacion Porcentual 2022 y 2023: {}%\\nPor una variacion entre 2% y 20%, El equipos de ventas obtendran una pequeña bonificación en los proximos días' .format(variacionPorcentual))\n",
        "elif variacionPorcentual >= -10:\n",
        "  print('\\nVariacion Porcentual 2022 y 2023: {}%\\nPor una variacion entre 2% y el -10%, Se esta haciendo una planificacion de polìticas de incentivo a las ventas' .format(variacionPorcentual))\n",
        "else:\n",
        "  print('\\nVariacion Porcentual 2022 y 2023: {}%\\nHabran recortes de gastos por variacion porcentual inferior a -10%' .format(variacionPorcentual))"
      ],
      "metadata": {
        "id": "4Mil-d3GDZHV",
        "outputId": "f09c5be5-f47e-4e34-897a-330b64c4428e",
        "colab": {
          "base_uri": "https://localhost:8080/"
        }
      },
      "execution_count": null,
      "outputs": [
        {
          "output_type": "stream",
          "name": "stdout",
          "text": [
            "Escribe la cantidad de ventas del año 2022: 200\n",
            "Escribe la cantidad de ventas del año 2023: 197\n",
            "\n",
            "Variacion Porcentual 2022 y 2023: -1.5%\n",
            "Por una variacion entre 2% y el -10%, Se esta haciendo una planificacion de polìticas de incentivo a las ventas\n"
          ]
        }
      ]
    },
    {
      "cell_type": "markdown",
      "source": [
        "# Estructuras de repetición"
      ],
      "metadata": {
        "id": "aL1vJPewvwvz"
      }
    },
    {
      "cell_type": "markdown",
      "source": [
        "Cuando tenemos que ejecutar un mismo bloque de comandos durante varias ocasiones no es nada práctico hacerlo a mano.\n",
        "\n",
        "**Situación**: Nos fue solicitado obtener e imprimir el promedio de 2 notas de **3 estudantes**:"
      ],
      "metadata": {
        "id": "VcPfCa8d-84t"
      }
    },
    {
      "cell_type": "code",
      "source": [
        "nota_1 = float(input('Digita la primera nota: '))\n",
        "nota_2 = float(input('Digita la segunda nota: '))\n",
        "print('El promedio del estudiante 1 es {}' .format((nota_1+nota_2)/2))\n",
        "\n",
        "nota_1 = float(input('Digita la primera nota: '))\n",
        "nota_2 = float(input('Digita la segunda nota: '))\n",
        "print('El promedio del estudiante 2 es {}' .format((nota_1+nota_2)/2))\n",
        "\n",
        "nota_1 = float(input('Digita la primera nota: '))\n",
        "nota_2 = float(input('Digita la segunda nota: '))\n",
        "print('El promedio del estudiante 3 es {}' .format((nota_1+nota_2)/2))"
      ],
      "metadata": {
        "id": "GW52NsKHAvm1",
        "outputId": "b20fc925-534e-4391-f55c-a4c651b45e0c",
        "colab": {
          "base_uri": "https://localhost:8080/"
        }
      },
      "execution_count": null,
      "outputs": [
        {
          "output_type": "stream",
          "name": "stdout",
          "text": [
            "Digita la primera nota: 4\n",
            "Digita la segunda nota: 6\n",
            "El promedio del estudiante 1 es 5.0\n",
            "Digita la primera nota: 5\n",
            "Digita la segunda nota: 3\n",
            "El promedio del estudiante 2 es 4.0\n",
            "Digita la primera nota: 6\n",
            "Digita la segunda nota: 5\n",
            "El promedio del estudiante 3 es 5.5\n"
          ]
        }
      ]
    },
    {
      "cell_type": "code",
      "source": [
        "6536.5\n",
        "8.5\n"
      ],
      "metadata": {
        "id": "xcx21IGT9qA0",
        "outputId": "c917ebaf-4def-4316-a7a5-c46afdbc0000",
        "colab": {
          "base_uri": "https://localhost:8080/"
        }
      },
      "execution_count": null,
      "outputs": [
        {
          "output_type": "execute_result",
          "data": {
            "text/plain": [
              "8.5"
            ]
          },
          "metadata": {},
          "execution_count": 195
        }
      ]
    },
    {
      "cell_type": "code",
      "source": [],
      "metadata": {
        "id": "Wtbiy9Ay9rGJ"
      },
      "execution_count": null,
      "outputs": []
    },
    {
      "cell_type": "code",
      "source": [],
      "metadata": {
        "id": "Yfyz4anY9rIr"
      },
      "execution_count": null,
      "outputs": []
    },
    {
      "cell_type": "markdown",
      "source": [
        "Ahora imaginemos una situación en que no son tan solo 3 estudiantes, sino 100 estudiantes. No sería nada interesante repetir el mismo código 100 veces, sino **ejecutar el mismo código 100 veces**.\n",
        "\n",
        "¡Esta estructura la logramos construir con lazos de repetición!"
      ],
      "metadata": {
        "id": "9puIuvUbFSFX"
      }
    },
    {
      "cell_type": "markdown",
      "source": [
        "## `WHILE`"
      ],
      "metadata": {
        "id": "uLO9-aE4-wx8"
      }
    },
    {
      "cell_type": "markdown",
      "source": [
        "El lazo `while` es una estructura de control de repetición en Python que permite ejecutar un bloque de código repetidamente mientras que una determinada condición sea verdadera. Su estructura es:\n",
        "\n",
        "\n",
        "\n",
        "```\n",
        "while condicion:\n",
        "    # bloque de codigo\n",
        "```\n",
        "\n",
        "Vamos a construir un ejemplo con un contador de 1 hasta 10.\n"
      ],
      "metadata": {
        "id": "rXZxDMiqHxm9"
      }
    },
    {
      "cell_type": "code",
      "source": [
        "contador = 1\n",
        "while contador <= 10:\n",
        "  print(contador)\n",
        "  # contador = contador + 1\n",
        "  contador += 1"
      ],
      "metadata": {
        "id": "Hd0ZSWxD9wCD",
        "outputId": "4c5cb99f-066d-4396-fb3c-0c73d1a6dab9",
        "colab": {
          "base_uri": "https://localhost:8080/"
        }
      },
      "execution_count": null,
      "outputs": [
        {
          "output_type": "stream",
          "name": "stdout",
          "text": [
            "1\n",
            "2\n",
            "3\n",
            "4\n",
            "5\n",
            "6\n",
            "7\n",
            "8\n",
            "9\n",
            "10\n"
          ]
        }
      ]
    },
    {
      "cell_type": "code",
      "source": [],
      "metadata": {
        "id": "miFHNqp29nOL"
      },
      "execution_count": null,
      "outputs": []
    },
    {
      "cell_type": "markdown",
      "source": [
        "Ahora vamos a colectar las notas y promedios de cada alumno dentro del lazo `while`. Haremos un ejemplo con 3 promedios."
      ],
      "metadata": {
        "id": "W4KZPBJuIrut"
      }
    },
    {
      "cell_type": "code",
      "source": [
        "contador = 1\n",
        "while contador <= 3:\n",
        "  nota_1 = float(input('Digita la primera nota: '))\n",
        "  nota_2 = float(input('Digita la segunda nota: '))\n",
        "  print('El promedio del estudiante {} es {}' .format(contador, (nota_1+nota_2)/2))\n",
        "  contador += 1\n"
      ],
      "metadata": {
        "id": "9T5eCLFx9wk6",
        "outputId": "07c733a7-4fee-40be-b83f-aa117a15b664",
        "colab": {
          "base_uri": "https://localhost:8080/"
        }
      },
      "execution_count": null,
      "outputs": [
        {
          "output_type": "stream",
          "name": "stdout",
          "text": [
            "Digita la primera nota: 8.5\n",
            "Digita la segunda nota: 5.7\n",
            "El promedio del estudiante 1 es 7.1\n",
            "\n",
            "Digita la primera nota: 6.5\n",
            "Digita la segunda nota: 10\n",
            "El promedio del estudiante 2 es 8.25\n",
            "\n",
            "Digita la primera nota: 9\n",
            "Digita la segunda nota: 7\n",
            "El promedio del estudiante 3 es 8.0\n",
            "\n"
          ]
        }
      ]
    },
    {
      "cell_type": "code",
      "source": [],
      "metadata": {
        "id": "P6E0_dW-9lZ9"
      },
      "execution_count": null,
      "outputs": []
    },
    {
      "cell_type": "markdown",
      "source": [
        "## `FOR`"
      ],
      "metadata": {
        "id": "WgAIaENMMfCP"
      }
    },
    {
      "cell_type": "markdown",
      "source": [
        "El lazo `for` es un tipo de estructura de control de flujo en Python que permite iterar sobre un conjunto de elementos. Su estructura es:\n",
        "\n",
        "\n",
        "\n",
        "```\n",
        "for elemento in conjunto:\n",
        "    # codigo a ser ejecutado para cada elemento\n",
        "```\n",
        "\n",
        "El lazo `for` itera sobre cada elemento del conjunto especificado y ejecuta el bloque de código dentro del lazo para cada elemento. Cuando el lazo llega al final del conjunto, este se interrumpe y el programa continúa la ejecución después del lazo.\n",
        "\n"
      ],
      "metadata": {
        "id": "HxrSZoRAMh-x"
      }
    },
    {
      "cell_type": "markdown",
      "source": [
        "El conjunto lo podemos generar con la función incorporada [`range()`](https://docs.python.org/3/library/functions.html#func-range). Se trata de una función capaz de generar una secuencia de números enteros. La estructura de esta función es:\n",
        "\n",
        "```\n",
        "range(inicio, fin, paso)\n",
        "```\n",
        "\n",
        "Según la documentación, `range()` genera una secuencia de números enteros a partir del valor del parámetro `inicio` hasta el valor del parámetro `fin`, de acuerdo con el valor del parámetro `paso`. Si `inicio` no es especificado, el valor por defecto es `0`. Si `paso` no es especificado, el valor por defecto es `1`.\n",
        "\n",
        "\n"
      ],
      "metadata": {
        "id": "6VgjyoQtPHBM"
      }
    },
    {
      "cell_type": "markdown",
      "source": [
        "Vamos a recrear el mismo contador `while` con el lazo `for`."
      ],
      "metadata": {
        "id": "ryn0hfdlUwC8"
      }
    },
    {
      "cell_type": "code",
      "source": [
        "for n in range(1, 11):\n",
        "  print(n)"
      ],
      "metadata": {
        "id": "KkL1wUIj9jL4",
        "outputId": "a871ee9d-c04f-48bb-a4e0-345b9ee08fb6",
        "colab": {
          "base_uri": "https://localhost:8080/"
        }
      },
      "execution_count": null,
      "outputs": [
        {
          "output_type": "stream",
          "name": "stdout",
          "text": [
            "1\n",
            "2\n",
            "3\n",
            "4\n",
            "5\n",
            "6\n",
            "7\n",
            "8\n",
            "9\n",
            "10\n"
          ]
        }
      ]
    },
    {
      "cell_type": "code",
      "source": [
        "for e in range(1,4):\n",
        "  nota_1 = float(input('Digita la primera nota: '))\n",
        "  nota_2 = float(input('Digita la segunda nota: '))\n",
        "  print('El promedio del estudiante {} es {}\\n' .format(e, (nota_1+nota_2)/2))\n"
      ],
      "metadata": {
        "id": "uXIZnLSr9jOu",
        "outputId": "55484ae3-a372-446f-a9c3-33302522334d",
        "colab": {
          "base_uri": "https://localhost:8080/"
        }
      },
      "execution_count": null,
      "outputs": [
        {
          "output_type": "stream",
          "name": "stdout",
          "text": [
            "Digita la primera nota: 7\n",
            "Digita la segunda nota: 8\n",
            "El promedio del estudiante 1 es 7.5\n",
            "\n",
            "Digita la primera nota: 4\n",
            "Digita la segunda nota: 5\n",
            "El promedio del estudiante 2 es 4.5\n",
            "\n",
            "Digita la primera nota: 2\n",
            "Digita la segunda nota: 4\n",
            "El promedio del estudiante 3 es 3.0\n",
            "\n"
          ]
        }
      ]
    },
    {
      "cell_type": "code",
      "source": [
        "#1\n",
        "\n",
        "n1 = int(input('Ingrese el primer numero: '))\n",
        "n2 = int(input('Ingrese el segundo numero: '))\n",
        "\n",
        "for i in range(n1, n2+1):\n",
        "  print(i)"
      ],
      "metadata": {
        "id": "KWkpx6dplTes",
        "outputId": "35469090-d748-4232-e27d-a61c807aa3dd",
        "colab": {
          "base_uri": "https://localhost:8080/"
        }
      },
      "execution_count": null,
      "outputs": [
        {
          "output_type": "stream",
          "name": "stdout",
          "text": [
            "Ingrese el primer numero: 22\n",
            "Ingrese el segundo numero: 34\n",
            "22\n",
            "23\n",
            "24\n",
            "25\n",
            "26\n",
            "27\n",
            "28\n",
            "29\n",
            "30\n",
            "31\n",
            "32\n",
            "33\n",
            "34\n"
          ]
        }
      ]
    },
    {
      "cell_type": "code",
      "source": [
        "#2\n",
        "\n",
        "coloniaA = 4\n",
        "coloniaB = 10\n",
        "dias = 0\n",
        "\n",
        "while coloniaA < coloniaB:\n",
        "\n",
        "  porcentajeA = (coloniaA*3)/100\n",
        "  coloniaA = coloniaA + porcentajeA\n",
        "\n",
        "  porcentajeB = (coloniaB*1.5)/100\n",
        "  coloniaB = coloniaB + porcentajeB\n",
        "\n",
        "  dias += 1\n",
        "\n",
        "print('La colonia A demora {} días para superar la colinia B' .format(dias))\n",
        "print('Colonia A {}\\nColonia B {}' .format(coloniaA, coloniaB))"
      ],
      "metadata": {
        "id": "CXNuZENElxDo",
        "colab": {
          "base_uri": "https://localhost:8080/"
        },
        "outputId": "fcef15a8-fb36-4c1a-b381-af7071843129"
      },
      "execution_count": null,
      "outputs": [
        {
          "output_type": "stream",
          "name": "stdout",
          "text": [
            "La colonia A demora 63 días para superar la colinia B\n",
            "Colonia A 25.751655140298336\n",
            "Colonia B 25.548220848111153\n"
          ]
        }
      ]
    },
    {
      "cell_type": "code",
      "source": [
        "#3\n",
        "\n",
        "for i in range(1, 16):\n",
        "  valor = float(input('Evaluación #{}: ' .format(i)))\n",
        "  while valor > 5 or valor < 0:\n",
        "    print('\\nValor Invalido')\n",
        "    valor = float(input('\\nEvaluación #{}: ' .format(i)))\n"
      ],
      "metadata": {
        "id": "k6IR9_8hMZ-M",
        "outputId": "7e6f64cc-7e8a-43f0-9a6f-50c33076f184",
        "colab": {
          "base_uri": "https://localhost:8080/"
        }
      },
      "execution_count": null,
      "outputs": [
        {
          "name": "stdout",
          "output_type": "stream",
          "text": [
            "Evaluación #1: 4\n",
            "Evaluación #2: 3\n",
            "Evaluación #3: 2\n",
            "Evaluación #4: 5\n",
            "Evaluación #5: 4\n",
            "Evaluación #6: 3\n",
            "Evaluación #7: 2\n",
            "Evaluación #8: 1\n",
            "Evaluación #9: 3\n",
            "Evaluación #10: 4\n",
            "Evaluación #11: 3\n",
            "Evaluación #12: 2\n",
            "Evaluación #13: 1\n",
            "Evaluación #14: 4\n",
            "Evaluación #15: 3\n"
          ]
        }
      ]
    },
    {
      "cell_type": "code",
      "source": [
        "#4\n",
        "\n",
        "temCelsius = float(input('Escibe temperatura en grados Celsius: '))\n",
        "veces = 0\n",
        "suma = 0\n",
        "\n",
        "while -273 != temCelsius:\n",
        "\n",
        " veces +=1\n",
        " suma += temCelsius\n",
        " promedioTemperatura = suma / veces\n",
        " print('Promedio: {}ºC' .format(promedioTemperatura))\n",
        " temCelsius = float(input('\\nEscribe temperatura en grados Celsius: '))\n",
        "\n",
        "\n"
      ],
      "metadata": {
        "id": "ecjZj-lQQYWl",
        "outputId": "37e8f431-9f07-44c1-f6de-91fbd5de333a",
        "colab": {
          "base_uri": "https://localhost:8080/"
        }
      },
      "execution_count": null,
      "outputs": [
        {
          "name": "stdout",
          "output_type": "stream",
          "text": [
            "Escibe temperatura en grados Celsius: 55\n",
            "Promedio: 55.0ºC\n",
            "\n",
            "Escribe temperatura en grados Celsius: 22\n",
            "Promedio: 38.5ºC\n",
            "\n",
            "Escribe temperatura en grados Celsius: 44\n",
            "Promedio: 40.333333333333336ºC\n",
            "\n",
            "Escribe temperatura en grados Celsius: -77\n",
            "Promedio: 11.0ºC\n",
            "\n",
            "Escribe temperatura en grados Celsius: -272\n",
            "Promedio: -45.6ºC\n",
            "\n",
            "Escribe temperatura en grados Celsius: -273\n"
          ]
        }
      ]
    },
    {
      "cell_type": "code",
      "source": [
        "#5\n",
        "\n",
        "numeroFactorial = int(input('Escribe un numero entero para calcular su factorial: '))\n",
        "factorial = numeroFactorial-1\n",
        "resultado = numeroFactorial\n",
        "\n",
        "for i in range(1, numeroFactorial):\n",
        "  if 1 != factorial:\n",
        "    resultado = resultado * factorial\n",
        "    factorial -= 1\n",
        "\n",
        "print('El factorial de {} es {}' .format(numeroFactorial, resultado))\n",
        "\n"
      ],
      "metadata": {
        "id": "lONxjCFeVN6H",
        "outputId": "534ecd8a-d941-4853-8b6a-11b84d93f641",
        "colab": {
          "base_uri": "https://localhost:8080/"
        }
      },
      "execution_count": null,
      "outputs": [
        {
          "output_type": "stream",
          "name": "stdout",
          "text": [
            "Escribe un numero entero para calcular su factorial: 5\n",
            "El factorial de 5 es 120\n"
          ]
        }
      ]
    },
    {
      "cell_type": "code",
      "source": [
        "#6\n",
        "\n",
        "numeroEntero = int(input('Escribe un numero entero para generar su tabla de multiplicar: '))\n",
        "\n",
        "for i in range(1, 11):\n",
        "\n",
        "  print('{} x {} = {}' .format(numeroEntero, i, numeroEntero*i))"
      ],
      "metadata": {
        "id": "5h3-bpPyVpr6",
        "outputId": "4259f05e-86d5-4bc4-d821-388bd0b99d81",
        "colab": {
          "base_uri": "https://localhost:8080/"
        }
      },
      "execution_count": null,
      "outputs": [
        {
          "output_type": "stream",
          "name": "stdout",
          "text": [
            "Escribe un numero entero para generar su tabla de multiplicar: 4\n",
            "4 x 1 = 4\n",
            "4 x 2 = 8\n",
            "4 x 3 = 12\n",
            "4 x 4 = 16\n",
            "4 x 5 = 20\n",
            "4 x 6 = 24\n",
            "4 x 7 = 28\n",
            "4 x 8 = 32\n",
            "4 x 9 = 36\n",
            "4 x 10 = 40\n"
          ]
        }
      ]
    },
    {
      "cell_type": "code",
      "source": [
        "#7\n",
        "\n",
        "numeroPrimo = int(input('Escribe un numero entero para saber si es primo: '))\n",
        "\n",
        "if numeroPrimo < 1:\n",
        "  print('El numero {} no es primo' .format(numeroPrimo))\n",
        "\n",
        "else:\n",
        "  el_primo = True\n",
        "  for i in range(2, int(numeroPrimo**0.5)+1):\n",
        "    if numeroPrimo % i == 0:\n",
        "      el_primo = False\n",
        "\n",
        "if el_primo:\n",
        "  print('El numero {} es primo' .format(numeroPrimo))\n",
        "else:\n",
        "  print('El numero {} no es primo' .format(numeroPrimo))\n",
        "\n"
      ],
      "metadata": {
        "id": "Y0o7y_zjd5hf",
        "outputId": "f418d9e4-e7ac-4acd-c559-d13e473e339a",
        "colab": {
          "base_uri": "https://localhost:8080/"
        }
      },
      "execution_count": null,
      "outputs": [
        {
          "output_type": "stream",
          "name": "stdout",
          "text": [
            "Escribe un numero entero para saber si es primo: 4\n",
            "El numero 4 no es primo\n"
          ]
        }
      ]
    },
    {
      "cell_type": "code",
      "source": [
        "#8\n",
        "\n",
        "entradaEdad = int(input('Escribe la edad de un pensionista: '))\n",
        "contador1 = 0\n",
        "contador2 = 0\n",
        "contador3 = 0\n",
        "contador4 = 0\n",
        "\n",
        "while entradaEdad >= 0:\n",
        "\n",
        "  if entradaEdad >= 0 and entradaEdad <= 25:\n",
        "    contador1 += 1\n",
        "    print('\\nLa edad se encuntra dentro del rango de 0 a 25 años')\n",
        "    entradaEdad = int(input('\\nEscribe la edad de un pensionista: '))\n",
        "\n",
        "  elif entradaEdad > 25 and entradaEdad <= 50:\n",
        "    contador2 += 1\n",
        "    print('\\nLa edad se encuntra dentro del rango de 26 a 50 años')\n",
        "    entradaEdad = int(input('\\nEscribe la edad de un pensionista: '))\n",
        "\n",
        "  elif entradaEdad > 50 and entradaEdad <= 75:\n",
        "    contador3 += 1\n",
        "    print('\\nLa edad se encuntra dentro del rango de 51 a 75 años')\n",
        "    entradaEdad = int(input('\\nEscribe la edad de un pensionista: '))\n",
        "\n",
        "  elif entradaEdad > 75 and entradaEdad <= 100:\n",
        "    contador4 += 1\n",
        "    print('\\nLa edad se encuntra dentro del rango de 76 a 100 años')\n",
        "    entradaEdad = int(input('\\nEscribe la edad de un pensionista: '))\n",
        "\n",
        "  else:\n",
        "    print('\\nLa edad no se encuentra en ninguna de las distribuciones')\n",
        "    entradaEdad = int(input('\\nEscribe la edad de un pensionista: '))\n",
        "\n",
        "print('\\nDISTRIBUCION TOTAL:\\nRango de 0 a 25 años: {}\\nRango de 26 a 50 años: {}\\nRango de 51 a 75 años: {}\\nRango de 76 a 100 años: {}' .format(contador1, contador2, contador3, contador4))\n",
        "\n",
        "\n",
        "\n",
        "\n"
      ],
      "metadata": {
        "id": "RS0QdevgbgTr",
        "outputId": "789adede-ce45-4112-e619-1e55a524858a",
        "colab": {
          "base_uri": "https://localhost:8080/"
        }
      },
      "execution_count": null,
      "outputs": [
        {
          "output_type": "stream",
          "name": "stdout",
          "text": [
            "Escribe la edad de un pensionista: 4\n",
            "\n",
            "La edad se encuntra dentro del rango de 0 a 25 años\n",
            "\n",
            "Escribe la edad de un pensionista: 3\n",
            "\n",
            "La edad se encuntra dentro del rango de 0 a 25 años\n",
            "\n",
            "Escribe la edad de un pensionista: 2\n",
            "\n",
            "La edad se encuntra dentro del rango de 0 a 25 años\n",
            "\n",
            "Escribe la edad de un pensionista: -5\n",
            "\n",
            "DISTRIBUCION TOTAL:\n",
            "Rango de 0 a 25 años: 3\n",
            "Rango de 26 a 50 años: 0\n",
            "Rango de 51 a 75 años: 0\n",
            "Rango de 76 a 100 años: 0\n"
          ]
        }
      ]
    },
    {
      "cell_type": "code",
      "source": [
        "#9\n",
        "\n",
        "voto1 = 0\n",
        "voto2 = 0\n",
        "voto3 = 0\n",
        "voto4 = 0\n",
        "voto5 = 0\n",
        "voto6 = 0\n",
        "\n",
        "for i in range(1, 20+1):\n",
        "  print('\\nEmpleado #{}' .format(i))\n",
        "  votoEmpleado = int(input('Para votar escribe el numero respectivo de tu cantidato:\\n1. Candidado A\\n2. Candidato B\\n3. Candidado C\\n4. Candidato D\\n6. Voto en Blanco\\n'))\n",
        "\n",
        "  if votoEmpleado == 1:\n",
        "    voto1 += 1\n",
        "  elif votoEmpleado == 2:\n",
        "    voto2 += 1\n",
        "  elif votoEmpleado == 3:\n",
        "    voto3 += 1\n",
        "  elif votoEmpleado == 4:\n",
        "    voto4 += 1\n",
        "  elif votoEmpleado == 6:\n",
        "    voto6 += 1\n",
        "  else:\n",
        "      voto5 += 1\n",
        "\n",
        "print('\\nTOTAL DE VOTOS:\\nCANDIDATO A: {}\\nCANDIDATO B: {}\\nCANTIDADO C: {}\\nCANDIDATO D: {}' .format(voto1, voto2, voto3, voto4))\n",
        "print('\\nVOTO NULO: {}   Porcentaje: {}%\\nVOTO EN BLANCO: {}   Porcentaje: {}%' .format(voto5, (voto5/20)*100, voto6, (voto6/20)*100))\n"
      ],
      "metadata": {
        "id": "m0WuhWx-iHUT",
        "outputId": "b65c0985-66c2-4d6e-fa20-a2447c318c9c",
        "colab": {
          "base_uri": "https://localhost:8080/"
        }
      },
      "execution_count": null,
      "outputs": [
        {
          "output_type": "stream",
          "name": "stdout",
          "text": [
            "\n",
            "Empleado #1\n",
            "Para votar escribe el numero respectivo de tu cantidato:\n",
            "1. Candidado A\n",
            "2. Candidato B\n",
            "3. Candidado C\n",
            "4. Candidato D\n",
            "6. Voto en Blanco\n",
            "2\n",
            "\n",
            "Empleado #2\n",
            "Para votar escribe el numero respectivo de tu cantidato:\n",
            "1. Candidado A\n",
            "2. Candidato B\n",
            "3. Candidado C\n",
            "4. Candidato D\n",
            "6. Voto en Blanco\n",
            "3\n",
            "\n",
            "Empleado #3\n",
            "Para votar escribe el numero respectivo de tu cantidato:\n",
            "1. Candidado A\n",
            "2. Candidato B\n",
            "3. Candidado C\n",
            "4. Candidato D\n",
            "6. Voto en Blanco\n",
            "4\n",
            "\n",
            "Empleado #4\n",
            "Para votar escribe el numero respectivo de tu cantidato:\n",
            "1. Candidado A\n",
            "2. Candidato B\n",
            "3. Candidado C\n",
            "4. Candidato D\n",
            "6. Voto en Blanco\n",
            "5\n",
            "\n",
            "Empleado #5\n",
            "Para votar escribe el numero respectivo de tu cantidato:\n",
            "1. Candidado A\n",
            "2. Candidato B\n",
            "3. Candidado C\n",
            "4. Candidato D\n",
            "6. Voto en Blanco\n",
            "4\n",
            "\n",
            "Empleado #6\n",
            "Para votar escribe el numero respectivo de tu cantidato:\n",
            "1. Candidado A\n",
            "2. Candidato B\n",
            "3. Candidado C\n",
            "4. Candidato D\n",
            "6. Voto en Blanco\n",
            "2\n",
            "\n",
            "Empleado #7\n",
            "Para votar escribe el numero respectivo de tu cantidato:\n",
            "1. Candidado A\n",
            "2. Candidato B\n",
            "3. Candidado C\n",
            "4. Candidato D\n",
            "6. Voto en Blanco\n",
            "5\n",
            "\n",
            "Empleado #8\n",
            "Para votar escribe el numero respectivo de tu cantidato:\n",
            "1. Candidado A\n",
            "2. Candidato B\n",
            "3. Candidado C\n",
            "4. Candidato D\n",
            "6. Voto en Blanco\n",
            "3\n",
            "\n",
            "Empleado #9\n",
            "Para votar escribe el numero respectivo de tu cantidato:\n",
            "1. Candidado A\n",
            "2. Candidato B\n",
            "3. Candidado C\n",
            "4. Candidato D\n",
            "6. Voto en Blanco\n",
            "6\n",
            "\n",
            "Empleado #10\n",
            "Para votar escribe el numero respectivo de tu cantidato:\n",
            "1. Candidado A\n",
            "2. Candidato B\n",
            "3. Candidado C\n",
            "4. Candidato D\n",
            "6. Voto en Blanco\n",
            "4\n",
            "\n",
            "Empleado #11\n",
            "Para votar escribe el numero respectivo de tu cantidato:\n",
            "1. Candidado A\n",
            "2. Candidato B\n",
            "3. Candidado C\n",
            "4. Candidato D\n",
            "6. Voto en Blanco\n",
            "3\n",
            "\n",
            "Empleado #12\n",
            "Para votar escribe el numero respectivo de tu cantidato:\n",
            "1. Candidado A\n",
            "2. Candidato B\n",
            "3. Candidado C\n",
            "4. Candidato D\n",
            "6. Voto en Blanco\n",
            "2\n",
            "\n",
            "Empleado #13\n",
            "Para votar escribe el numero respectivo de tu cantidato:\n",
            "1. Candidado A\n",
            "2. Candidato B\n",
            "3. Candidado C\n",
            "4. Candidato D\n",
            "6. Voto en Blanco\n",
            "1\n",
            "\n",
            "Empleado #14\n",
            "Para votar escribe el numero respectivo de tu cantidato:\n",
            "1. Candidado A\n",
            "2. Candidato B\n",
            "3. Candidado C\n",
            "4. Candidato D\n",
            "6. Voto en Blanco\n",
            "3\n",
            "\n",
            "Empleado #15\n",
            "Para votar escribe el numero respectivo de tu cantidato:\n",
            "1. Candidado A\n",
            "2. Candidato B\n",
            "3. Candidado C\n",
            "4. Candidato D\n",
            "6. Voto en Blanco\n",
            "5\n",
            "\n",
            "Empleado #16\n",
            "Para votar escribe el numero respectivo de tu cantidato:\n",
            "1. Candidado A\n",
            "2. Candidato B\n",
            "3. Candidado C\n",
            "4. Candidato D\n",
            "6. Voto en Blanco\n",
            "2\n",
            "\n",
            "Empleado #17\n",
            "Para votar escribe el numero respectivo de tu cantidato:\n",
            "1. Candidado A\n",
            "2. Candidato B\n",
            "3. Candidado C\n",
            "4. Candidato D\n",
            "6. Voto en Blanco\n",
            "5\n",
            "\n",
            "Empleado #18\n",
            "Para votar escribe el numero respectivo de tu cantidato:\n",
            "1. Candidado A\n",
            "2. Candidato B\n",
            "3. Candidado C\n",
            "4. Candidato D\n",
            "6. Voto en Blanco\n",
            "6\n",
            "\n",
            "Empleado #19\n",
            "Para votar escribe el numero respectivo de tu cantidato:\n",
            "1. Candidado A\n",
            "2. Candidato B\n",
            "3. Candidado C\n",
            "4. Candidato D\n",
            "6. Voto en Blanco\n",
            "3\n",
            "\n",
            "Empleado #20\n",
            "Para votar escribe el numero respectivo de tu cantidato:\n",
            "1. Candidado A\n",
            "2. Candidato B\n",
            "3. Candidado C\n",
            "4. Candidato D\n",
            "6. Voto en Blanco\n",
            "2\n",
            "\n",
            "TOTAL DE VOTOS:\n",
            "CANDIDATO A: 1\n",
            "CANDIDATO B: 5\n",
            "CANTIDADO C: 5\n",
            "CANDIDATO C: 3\n",
            "\n",
            "VOTO NULO: 4   Porcentaje: 20.0%\n",
            "VOTO EN BLANCO: 2   Porcentaje: 10.0%\n"
          ]
        }
      ]
    },
    {
      "cell_type": "markdown",
      "source": [
        "# Estructuras de datos"
      ],
      "metadata": {
        "id": "8noP8OJ0Vhux"
      }
    },
    {
      "cell_type": "markdown",
      "source": [
        "Un conjunto de elementos es una colección de items, que son almacenados juntos de manera organizada. Algunos ejemplos de conjuntos de elementos en Python son las listas, los strings y los diccionarios."
      ],
      "metadata": {
        "id": "xpEUkefTu8fY"
      }
    },
    {
      "cell_type": "markdown",
      "source": [
        "## Listas"
      ],
      "metadata": {
        "id": "THSg4KYLwxIb"
      }
    },
    {
      "cell_type": "markdown",
      "source": [
        "Las listas pueden almacenar una colección de items en orden. Ellas son delimitadas por corchetes `[]` y sus elementos son separados por comas.\n",
        "\n",
        "Estas pueden almacenar cualquier tipo de items, incluyendo números, strings, objetos, otras listas, entre otros. También nos permiten almacenar items de tipos de datos diferentes juntos en una única lista."
      ],
      "metadata": {
        "id": "dzpsiqrOyJcK"
      }
    },
    {
      "cell_type": "code",
      "source": [
        "lista = ['Penélope Camacho',9.5,9.0,9.7,True]\n",
        "lista"
      ],
      "metadata": {
        "id": "DO3TBj7nAYeG",
        "colab": {
          "base_uri": "https://localhost:8080/"
        },
        "outputId": "c20c8447-a51d-47a4-f2bd-cb1b021d761f"
      },
      "execution_count": null,
      "outputs": [
        {
          "output_type": "execute_result",
          "data": {
            "text/plain": [
              "['Penélope Camacho', 9.5, 9.0, 9.7, True]"
            ]
          },
          "metadata": {},
          "execution_count": 21
        }
      ]
    },
    {
      "cell_type": "code",
      "source": [],
      "metadata": {
        "id": "DO2ubP9N9D_2"
      },
      "execution_count": null,
      "outputs": []
    },
    {
      "cell_type": "markdown",
      "source": [
        "Las listas son organizadas en Python porque **cada elemento de la lista tiene un índice que indica su posición al interior de la lista**. Los índices comienzan en 0 van hasta el tamaño de la lista menos 1."
      ],
      "metadata": {
        "id": "qUz3sJNl6LgK"
      }
    },
    {
      "cell_type": "markdown",
      "source": [
        "Tenemos entonces 5 elementos con índices que varían de 0 a 4, ordenadamente:\n",
        "\n",
        "```\n",
        "#             [0]           [1]   [2]   [3]    [4]\n",
        "lista = ['Penélope Camacho', 9.5 , 9.0 , 9.7 , True]\n",
        "```\n",
        "\n",
        "En Python tenemos también los índices **negativos** que se inician en el último elemento con el valor de `-1` y avanzan en el universo de los negativos hasta llegar al 1° elemento:\n",
        "\n",
        "```\n",
        "#             [-5]         [-4]  [-3]  [-2]   [-1]\n",
        "lista = ['Penélope Camacho', 9.5 , 9.0 , 9.7 , True]\n",
        "```\n",
        "\n",
        "Logramos seleccionar separadamente cada elemento a través de sus respectivos índices. Colocando el nombre de la lista y en seguida el índice que será seleccionado."
      ],
      "metadata": {
        "id": "rLf-Qg526hFD"
      }
    },
    {
      "cell_type": "code",
      "source": [
        "type(lista[0])"
      ],
      "metadata": {
        "id": "4hco1Zqy88Kw",
        "outputId": "32f2b33c-a0f1-45cd-8185-dbb366cb9bd1",
        "colab": {
          "base_uri": "https://localhost:8080/"
        }
      },
      "execution_count": null,
      "outputs": [
        {
          "output_type": "execute_result",
          "data": {
            "text/plain": [
              "str"
            ]
          },
          "metadata": {},
          "execution_count": 23
        }
      ]
    },
    {
      "cell_type": "code",
      "source": [
        "type(lista[1])"
      ],
      "metadata": {
        "id": "M8lH0I2288Ph",
        "outputId": "f7408402-a23b-45db-b08f-3584440302fb",
        "colab": {
          "base_uri": "https://localhost:8080/"
        }
      },
      "execution_count": null,
      "outputs": [
        {
          "output_type": "execute_result",
          "data": {
            "text/plain": [
              "float"
            ]
          },
          "metadata": {},
          "execution_count": 24
        }
      ]
    },
    {
      "cell_type": "markdown",
      "source": [
        "Una forma más dinámica de trabajar item a item en una lista es utilizando un lazo `for` para leer un elemento a la vez."
      ],
      "metadata": {
        "id": "6TaE1ijmBTCd"
      }
    },
    {
      "cell_type": "code",
      "source": [
        "type(lista[-1])"
      ],
      "metadata": {
        "id": "rBx4Yu1786Sy",
        "outputId": "96fbc21e-ece7-4672-ed76-b2c82a6a869c",
        "colab": {
          "base_uri": "https://localhost:8080/"
        }
      },
      "execution_count": null,
      "outputs": [
        {
          "output_type": "execute_result",
          "data": {
            "text/plain": [
              "bool"
            ]
          },
          "metadata": {},
          "execution_count": 25
        }
      ]
    },
    {
      "cell_type": "code",
      "source": [],
      "metadata": {
        "id": "v_FP6wET4Ax3"
      },
      "execution_count": null,
      "outputs": []
    },
    {
      "cell_type": "code",
      "source": [
        "for elemento in lista:\n",
        "  print(elemento)"
      ],
      "metadata": {
        "id": "ukRlpR6631Ze",
        "outputId": "de0bad22-2904-45f0-ca4e-d4c4d46f80af",
        "colab": {
          "base_uri": "https://localhost:8080/"
        }
      },
      "execution_count": null,
      "outputs": [
        {
          "output_type": "stream",
          "name": "stdout",
          "text": [
            "Penélope Camacho\n",
            "9.5\n",
            "9.0\n",
            "9.7\n",
            "True\n"
          ]
        }
      ]
    },
    {
      "cell_type": "markdown",
      "source": [
        "**Situación**: La nota `9.0` de Penélope necesita ser ajustada pues ganó 1 punto en su última nota por participación en clase. Entonces es necesario realizar un cambio en el índice `2` de `9.0` a `10.0`."
      ],
      "metadata": {
        "id": "Dh1_HnIVvucY"
      }
    },
    {
      "cell_type": "code",
      "source": [
        "lista[2] = 10.0"
      ],
      "metadata": {
        "id": "bVPoZg668z3T"
      },
      "execution_count": null,
      "outputs": []
    },
    {
      "cell_type": "code",
      "source": [
        "lista"
      ],
      "metadata": {
        "id": "Jo_PBQ0g8z7D",
        "outputId": "ad578bfb-796c-45c1-ba7d-79c487fd3011",
        "colab": {
          "base_uri": "https://localhost:8080/"
        }
      },
      "execution_count": null,
      "outputs": [
        {
          "output_type": "execute_result",
          "data": {
            "text/plain": [
              "['Penélope Camacho', 9.5, 10.0, 9.7, True]"
            ]
          },
          "metadata": {},
          "execution_count": 28
        }
      ]
    },
    {
      "cell_type": "markdown",
      "source": [
        "También podemos calcular el promedio del estudiante a partir de los datos que tenemos."
      ],
      "metadata": {
        "id": "53XduzXkycAf"
      }
    },
    {
      "cell_type": "code",
      "source": [
        "promedio = (lista[1] + lista[2] + lista[3])/3\n",
        "promedio"
      ],
      "metadata": {
        "id": "SIH61Rrb8yv4",
        "outputId": "6bea7b4e-6ee0-418f-c443-b5e94032eddd",
        "colab": {
          "base_uri": "https://localhost:8080/"
        }
      },
      "execution_count": null,
      "outputs": [
        {
          "output_type": "execute_result",
          "data": {
            "text/plain": [
              "9.733333333333333"
            ]
          },
          "metadata": {},
          "execution_count": 30
        }
      ]
    },
    {
      "cell_type": "markdown",
      "source": [
        "## Manipulación de listas\n",
        "\n",
        "Las listas son muy útiles en Python porque nos permiten almacenar y acceder a una colección de items de manera organizada y rápida. Estas también ofrecen muchos métodos útiles para manipular los itens almacenados, como adicionar, remover, clasificar y buscar elementos."
      ],
      "metadata": {
        "id": "d-iYr10-y4qw"
      }
    },
    {
      "cell_type": "code",
      "source": [
        "len(lista)"
      ],
      "metadata": {
        "id": "PrlCxkjz6DC6",
        "outputId": "a8b5dbcc-69ec-497e-c7b5-b54ba3ce501c",
        "colab": {
          "base_uri": "https://localhost:8080/"
        }
      },
      "execution_count": null,
      "outputs": [
        {
          "output_type": "execute_result",
          "data": {
            "text/plain": [
              "5"
            ]
          },
          "metadata": {},
          "execution_count": 31
        }
      ]
    },
    {
      "cell_type": "markdown",
      "source": [
        "#### Cantidad de elementos\n",
        "\n",
        "Usamos la función [`len()`](https://docs.python.org/3/library/functions.html#len) para descubrir la cantidad de elementos de un conjunto."
      ],
      "metadata": {
        "id": "ZLqx9A97XVB_"
      }
    },
    {
      "cell_type": "code",
      "source": [],
      "metadata": {
        "id": "6q1Tmm7P8wQf"
      },
      "execution_count": null,
      "outputs": []
    },
    {
      "cell_type": "markdown",
      "source": [
        "#### Partición\n",
        "\n",
        "La partición de listas por indexación en Python es una técnica muy útil para seleccionar un subconjunto de elementos de una lista. Esta se realiza usando la sintaxis `lista[inicio:fin]`, donde `inicio` es el índice del primer elemento que será incluído en la partición `fin` es el índice del primer elemento que será excluído de la partición."
      ],
      "metadata": {
        "id": "Z5tpstlHJss3"
      }
    },
    {
      "cell_type": "code",
      "source": [
        "lista[0:2]"
      ],
      "metadata": {
        "id": "NctvJTTU8uV9",
        "outputId": "4fc287a7-ff8f-4fc4-80bf-b37f5c999111",
        "colab": {
          "base_uri": "https://localhost:8080/"
        }
      },
      "execution_count": null,
      "outputs": [
        {
          "output_type": "execute_result",
          "data": {
            "text/plain": [
              "['Penélope Camacho', 9.5]"
            ]
          },
          "metadata": {},
          "execution_count": 32
        }
      ]
    },
    {
      "cell_type": "code",
      "source": [
        "lista[:3]"
      ],
      "metadata": {
        "id": "bQZUwldj8uY2",
        "outputId": "bf54997c-acc1-41b3-c154-258de61c0d8e",
        "colab": {
          "base_uri": "https://localhost:8080/"
        }
      },
      "execution_count": null,
      "outputs": [
        {
          "output_type": "execute_result",
          "data": {
            "text/plain": [
              "['Penélope Camacho', 9.5, 10.0]"
            ]
          },
          "metadata": {},
          "execution_count": 33
        }
      ]
    },
    {
      "cell_type": "code",
      "source": [
        "lista[3:]"
      ],
      "metadata": {
        "id": "CfTOVi_26i8Z",
        "outputId": "6911f670-e3f2-4b3c-96f0-fa82e2c53118",
        "colab": {
          "base_uri": "https://localhost:8080/"
        }
      },
      "execution_count": null,
      "outputs": [
        {
          "output_type": "execute_result",
          "data": {
            "text/plain": [
              "[9.7, True]"
            ]
          },
          "metadata": {},
          "execution_count": 34
        }
      ]
    },
    {
      "cell_type": "code",
      "source": [
        "lista[:]"
      ],
      "metadata": {
        "id": "XNBmTE6a6pLe",
        "outputId": "201a9871-690b-47ec-b2a3-ad9cf60d5889",
        "colab": {
          "base_uri": "https://localhost:8080/"
        }
      },
      "execution_count": null,
      "outputs": [
        {
          "output_type": "execute_result",
          "data": {
            "text/plain": [
              "['Penélope Camacho', 9.5, 10.0, 9.7, True]"
            ]
          },
          "metadata": {},
          "execution_count": 35
        }
      ]
    },
    {
      "cell_type": "markdown",
      "source": [
        "#### [`append()`](https://docs.python.org/3/tutorial/datastructures.html#:~:text=of%20list%20objects%3A-,list.append(x),-Add%20an%20item)\n",
        "\n",
        "Añade un elemento al final de la lista."
      ],
      "metadata": {
        "id": "O0RRyabkRzZC"
      }
    },
    {
      "cell_type": "code",
      "source": [
        "lista.append(promedio)"
      ],
      "metadata": {
        "id": "_Q0oODwa8spC"
      },
      "execution_count": null,
      "outputs": []
    },
    {
      "cell_type": "code",
      "source": [
        "lista"
      ],
      "metadata": {
        "id": "RM894r2M8sse",
        "outputId": "c7bf80bb-0656-4482-c7c6-98c384fb6865",
        "colab": {
          "base_uri": "https://localhost:8080/"
        }
      },
      "execution_count": null,
      "outputs": [
        {
          "output_type": "execute_result",
          "data": {
            "text/plain": [
              "['Penélope Camacho', 9.5, 10.0, 9.7, True, 9.733333333333333]"
            ]
          },
          "metadata": {},
          "execution_count": 37
        }
      ]
    },
    {
      "cell_type": "markdown",
      "source": [
        "#### [`extend()`](https://docs.python.org/3/tutorial/datastructures.html#:~:text=list.extend(iterable))\n",
        "\n",
        "Añade varios elementos al final de la lista.\n",
        "\n",
        "Añadiremos las notas `[10.0,8.0,9.0]` En la lista de Penélope Camacho."
      ],
      "metadata": {
        "id": "uQV91XMsUOJD"
      }
    },
    {
      "cell_type": "code",
      "source": [
        "lista.extend([10.0,8.0,9.0])"
      ],
      "metadata": {
        "id": "6Zk2MpMw8rQc"
      },
      "execution_count": null,
      "outputs": []
    },
    {
      "cell_type": "code",
      "source": [
        "lista"
      ],
      "metadata": {
        "id": "NnoKkoWb8rTQ",
        "outputId": "38ad2704-0fdf-4963-dc2a-f26f996adcc7",
        "colab": {
          "base_uri": "https://localhost:8080/"
        }
      },
      "execution_count": null,
      "outputs": [
        {
          "output_type": "execute_result",
          "data": {
            "text/plain": [
              "['Penélope Camacho', 9.5, 10.0, 9.7, True, 9.733333333333333, 10.0, 8.0, 9.0]"
            ]
          },
          "metadata": {},
          "execution_count": 40
        }
      ]
    },
    {
      "cell_type": "markdown",
      "source": [
        "*A continuación te mostraremos lo que no puede realizarse con* `append`."
      ],
      "metadata": {
        "id": "IVJvkTwNUk6M"
      }
    },
    {
      "cell_type": "code",
      "source": [
        "lista.append([10.0,8.0,9.0])"
      ],
      "metadata": {
        "id": "u3Eub2ZL8pp3"
      },
      "execution_count": null,
      "outputs": []
    },
    {
      "cell_type": "code",
      "source": [
        "lista"
      ],
      "metadata": {
        "id": "tsKK5Ne58pvN",
        "outputId": "1b82becb-264b-4f81-8a49-10c4eb61f259",
        "colab": {
          "base_uri": "https://localhost:8080/"
        }
      },
      "execution_count": null,
      "outputs": [
        {
          "output_type": "execute_result",
          "data": {
            "text/plain": [
              "['Penélope Camacho',\n",
              " 9.5,\n",
              " 10.0,\n",
              " 9.7,\n",
              " True,\n",
              " 9.733333333333333,\n",
              " 10.0,\n",
              " 8.0,\n",
              " 9.0,\n",
              " [10.0, 8.0, 9.0]]"
            ]
          },
          "metadata": {},
          "execution_count": 42
        }
      ]
    },
    {
      "cell_type": "markdown",
      "source": [
        "#### [`remove()`](https://docs.python.org/3/tutorial/datastructures.html#:~:text=append(x).-,list.remove(x),-Remove%20the%20first)\n",
        "\n",
        "Remueve un elemento específico de la lista."
      ],
      "metadata": {
        "id": "dPGM5gpyUX1z"
      }
    },
    {
      "cell_type": "code",
      "source": [
        "lista.remove([10.0, 8.0, 9.0])"
      ],
      "metadata": {
        "id": "mmboODPc8nd5"
      },
      "execution_count": null,
      "outputs": []
    },
    {
      "cell_type": "code",
      "source": [
        "lista"
      ],
      "metadata": {
        "id": "T_w6vVgV8nh_",
        "outputId": "bd790617-7d5b-4d15-c716-62cb6b626640",
        "colab": {
          "base_uri": "https://localhost:8080/"
        }
      },
      "execution_count": null,
      "outputs": [
        {
          "output_type": "execute_result",
          "data": {
            "text/plain": [
              "['Penélope Camacho', 9.5, 10.0, 9.7, True, 9.733333333333333, 10.0, 8.0, 9.0]"
            ]
          },
          "metadata": {},
          "execution_count": 45
        }
      ]
    },
    {
      "cell_type": "markdown",
      "source": [
        "## Diccionario"
      ],
      "metadata": {
        "id": "Rc22Vc08YDZ2"
      }
    },
    {
      "cell_type": "markdown",
      "source": [
        "Los diccionarios son un tipo de estructura de datos que almacenan pares de *llave-valor*. Estos son delimitados por llaves `{}` y los pares *llave-valor* son separados por comas.\n",
        "\n",
        "```\n",
        "diccionario = {llave: valor}\n",
        "```\n",
        "\n",
        "La **llave** es un elemento único que identifica a un valor en el diccionario, mientras que el **valor** es el item que será almacenado para la llave. Las llaves y sus respectivos valores se pueden emplear para **cualquier tipo de dato**.\n",
        "\n",
        "Los diccionarios son útiles para almacenar y acceder a los datos de manera organizada y rápida. Se trata de un tipo de conjunto de elementos en Python, pues almacenan una colección de items."
      ],
      "metadata": {
        "id": "PJ-cCKPjeWxL"
      }
    },
    {
      "cell_type": "code",
      "source": [
        "diccionario = {'llave_1':1, 'llave_2':2}\n",
        "\n",
        "diccionario"
      ],
      "metadata": {
        "id": "NDHhzooE8ld5",
        "outputId": "0b148e32-45e1-45cf-e3ca-c2a1aff26781",
        "colab": {
          "base_uri": "https://localhost:8080/"
        }
      },
      "execution_count": null,
      "outputs": [
        {
          "output_type": "execute_result",
          "data": {
            "text/plain": [
              "{'llave_1': 1, 'llave_2': 2}"
            ]
          },
          "metadata": {},
          "execution_count": 46
        }
      ]
    },
    {
      "cell_type": "code",
      "source": [
        "type(diccionario)"
      ],
      "metadata": {
        "id": "AVOzqzy-8lhh",
        "outputId": "4155ed46-8062-47da-8b54-d89d8e0067e7",
        "colab": {
          "base_uri": "https://localhost:8080/"
        }
      },
      "execution_count": null,
      "outputs": [
        {
          "output_type": "execute_result",
          "data": {
            "text/plain": [
              "dict"
            ]
          },
          "metadata": {},
          "execution_count": 47
        }
      ]
    },
    {
      "cell_type": "markdown",
      "source": [
        "---\n",
        "**Situación:**\n",
        "\n",
        "Vamos a crear un conjunto de datos con las informaciones de matrícula de un estudiante. Los datos son los siguientes:\n",
        "\n",
        "- matrícula: 2000168933\n",
        "- día de registro: 25\n",
        "- mes de registro: 10\n",
        "- grupo: 2E"
      ],
      "metadata": {
        "id": "_JbQ3KMKfkXU"
      }
    },
    {
      "cell_type": "code",
      "source": [
        "estudiante = {\n",
        "              'matricula': 2000168933,\n",
        "              'dia_registro': 25,\n",
        "              'mes_registro': 10,\n",
        "              'grupo': '2E'\n",
        "              }\n",
        "estudiante"
      ],
      "metadata": {
        "id": "0lfOu_c38jED",
        "outputId": "96b3fbef-414f-4fb1-d21d-52a73807200b",
        "colab": {
          "base_uri": "https://localhost:8080/"
        }
      },
      "execution_count": null,
      "outputs": [
        {
          "output_type": "execute_result",
          "data": {
            "text/plain": [
              "{'matricula': 2000168933,\n",
              " 'dia_registro': 25,\n",
              " 'mes_registro': 10,\n",
              " 'grupo': '2E'}"
            ]
          },
          "metadata": {},
          "execution_count": 48
        }
      ]
    },
    {
      "cell_type": "code",
      "source": [
        "estudiante['matricula']"
      ],
      "metadata": {
        "id": "XIuqpTTy8jHV",
        "outputId": "4b66e645-6f78-4fee-f52a-cc707b1ca57e",
        "colab": {
          "base_uri": "https://localhost:8080/"
        }
      },
      "execution_count": null,
      "outputs": [
        {
          "output_type": "execute_result",
          "data": {
            "text/plain": [
              "2000168933"
            ]
          },
          "metadata": {},
          "execution_count": 49
        }
      ]
    },
    {
      "cell_type": "code",
      "source": [
        "estudiante['grupo']"
      ],
      "metadata": {
        "id": "Sd2bl52s9dYa",
        "outputId": "facddfc4-596a-445e-9445-b2debd09cb04",
        "colab": {
          "base_uri": "https://localhost:8080/",
          "height": 36
        }
      },
      "execution_count": null,
      "outputs": [
        {
          "output_type": "execute_result",
          "data": {
            "text/plain": [
              "'2E'"
            ],
            "application/vnd.google.colaboratory.intrinsic+json": {
              "type": "string"
            }
          },
          "metadata": {},
          "execution_count": 50
        }
      ]
    },
    {
      "cell_type": "markdown",
      "source": [
        "Es posible sustituir los valores dentro de una llave. Por ejemplo, recibimos la información de que el grupo del estudiante que registramos cambio a `'2G'` y ahora necesitamos cambiar el valor de la llave `'grupo'`."
      ],
      "metadata": {
        "id": "8ex5pt2ykDd2"
      }
    },
    {
      "cell_type": "code",
      "source": [
        "estudiante['grupo'] = '2G'\n",
        "\n",
        "estudiante['grupo']"
      ],
      "metadata": {
        "id": "kQGlp36b8fyP",
        "outputId": "f5f0922f-35e8-4df3-ec57-31a0afe02801",
        "colab": {
          "base_uri": "https://localhost:8080/",
          "height": 36
        }
      },
      "execution_count": null,
      "outputs": [
        {
          "output_type": "execute_result",
          "data": {
            "text/plain": [
              "'2G'"
            ],
            "application/vnd.google.colaboratory.intrinsic+json": {
              "type": "string"
            }
          },
          "metadata": {},
          "execution_count": 51
        }
      ]
    },
    {
      "cell_type": "code",
      "source": [
        "estudiante"
      ],
      "metadata": {
        "id": "DnfH_qHi8f17",
        "outputId": "6e59a42a-1ba0-41f6-d708-0648edc79c43",
        "colab": {
          "base_uri": "https://localhost:8080/"
        }
      },
      "execution_count": null,
      "outputs": [
        {
          "output_type": "execute_result",
          "data": {
            "text/plain": [
              "{'matricula': 2000168933,\n",
              " 'dia_registro': 25,\n",
              " 'mes_registro': 10,\n",
              " 'grupo': '2G'}"
            ]
          },
          "metadata": {},
          "execution_count": 52
        }
      ]
    },
    {
      "cell_type": "markdown",
      "source": [
        "También podemos añadir otros datos al diccionario. Vamos a añadir la información sobre la modalidad de estudio, nuestro estudiante estudiará inicialemente en la modalidad EAD.\n",
        "\n",
        "Definiremos una llave llamada `'modalidad'` con el valor `'EAD'`."
      ],
      "metadata": {
        "id": "wB0qRb56mQvv"
      }
    },
    {
      "cell_type": "code",
      "source": [
        "estudiante['modalidad'] = 'EAD'"
      ],
      "metadata": {
        "id": "EeLYdlIm8d8a"
      },
      "execution_count": null,
      "outputs": []
    },
    {
      "cell_type": "code",
      "source": [
        "estudiante"
      ],
      "metadata": {
        "id": "olDIavsm8d_o",
        "outputId": "260c480a-cd50-4f2c-9ca1-c4dbbbd789e1",
        "colab": {
          "base_uri": "https://localhost:8080/"
        }
      },
      "execution_count": null,
      "outputs": [
        {
          "output_type": "execute_result",
          "data": {
            "text/plain": [
              "{'matricula': 2000168933,\n",
              " 'dia_registro': 25,\n",
              " 'mes_registro': 10,\n",
              " 'grupo': '2G',\n",
              " 'modalidad': 'EAD'}"
            ]
          },
          "metadata": {},
          "execution_count": 55
        }
      ]
    },
    {
      "cell_type": "code",
      "source": [
        "len(estudiante)"
      ],
      "metadata": {
        "id": "LLD_dV-9-B1a",
        "outputId": "83363621-6d65-4afc-8438-a1d1e2a8028a",
        "colab": {
          "base_uri": "https://localhost:8080/"
        }
      },
      "execution_count": null,
      "outputs": [
        {
          "output_type": "execute_result",
          "data": {
            "text/plain": [
              "5"
            ]
          },
          "metadata": {},
          "execution_count": 56
        }
      ]
    },
    {
      "cell_type": "markdown",
      "source": [
        "## Profundizando en diccionarios"
      ],
      "metadata": {
        "id": "LJ3o_inroxg_"
      }
    },
    {
      "cell_type": "markdown",
      "source": [
        "#### [`pop()`](https://python-reference.readthedocs.io/en/latest/docs/dict/pop.html)\n",
        "Remueve un item de un diccionario y lo representa en la salida."
      ],
      "metadata": {
        "id": "2N3GLlkSpBiu"
      }
    },
    {
      "cell_type": "code",
      "source": [
        "estudiante.pop('grupo')"
      ],
      "metadata": {
        "id": "ZsSCZx6G8b-T",
        "outputId": "8606c194-9b06-4d6b-b3d0-682457b1f5ba",
        "colab": {
          "base_uri": "https://localhost:8080/",
          "height": 36
        }
      },
      "execution_count": null,
      "outputs": [
        {
          "output_type": "execute_result",
          "data": {
            "text/plain": [
              "'2G'"
            ],
            "application/vnd.google.colaboratory.intrinsic+json": {
              "type": "string"
            }
          },
          "metadata": {},
          "execution_count": 57
        }
      ]
    },
    {
      "cell_type": "code",
      "source": [
        "estudiante"
      ],
      "metadata": {
        "id": "7lQ8_jpi8cBR",
        "outputId": "5e1a8af2-bd3f-4d8e-defd-7f3bea6a5964",
        "colab": {
          "base_uri": "https://localhost:8080/"
        }
      },
      "execution_count": null,
      "outputs": [
        {
          "output_type": "execute_result",
          "data": {
            "text/plain": [
              "{'matricula': 2000168933,\n",
              " 'dia_registro': 25,\n",
              " 'mes_registro': 10,\n",
              " 'modalidad': 'EAD'}"
            ]
          },
          "metadata": {},
          "execution_count": 58
        }
      ]
    },
    {
      "cell_type": "markdown",
      "source": [
        "#### [`items()`](https://python-reference.readthedocs.io/en/latest/docs/dict/items.html)\n",
        "Retorna una lista de pares `llave-valor` del diccionario."
      ],
      "metadata": {
        "id": "sYZGvJJYrW_y"
      }
    },
    {
      "cell_type": "code",
      "source": [
        "estudiante.items()"
      ],
      "metadata": {
        "id": "ncdycLV08an7",
        "outputId": "a8c0ac88-5d8a-4bee-8103-9814b78a849b",
        "colab": {
          "base_uri": "https://localhost:8080/"
        }
      },
      "execution_count": null,
      "outputs": [
        {
          "output_type": "execute_result",
          "data": {
            "text/plain": [
              "dict_items([('matricula', 2000168933), ('dia_registro', 25), ('mes_registro', 10), ('modalidad', 'EAD')])"
            ]
          },
          "metadata": {},
          "execution_count": 59
        }
      ]
    },
    {
      "cell_type": "markdown",
      "source": [
        "#### [`keys()`](https://python-reference.readthedocs.io/en/latest/docs/dict/keys.html)\n",
        "Retorna una lista de las llaves del diccionario."
      ],
      "metadata": {
        "id": "Lb0utNFGrZBY"
      }
    },
    {
      "cell_type": "code",
      "source": [
        "estudiante.keys()"
      ],
      "metadata": {
        "id": "eZo0biaM8ZVs",
        "outputId": "c5c55a9f-15ef-45f5-ccfe-eb87efdd7864",
        "colab": {
          "base_uri": "https://localhost:8080/"
        }
      },
      "execution_count": null,
      "outputs": [
        {
          "output_type": "execute_result",
          "data": {
            "text/plain": [
              "dict_keys(['matricula', 'dia_registro', 'mes_registro', 'modalidad'])"
            ]
          },
          "metadata": {},
          "execution_count": 60
        }
      ]
    },
    {
      "cell_type": "markdown",
      "source": [
        "#### [`values()`](https://python-reference.readthedocs.io/en/latest/docs/dict/values.html)\n",
        "Retorna una lista de los valores del diccionario."
      ],
      "metadata": {
        "id": "qKyu3bf9rbtX"
      }
    },
    {
      "cell_type": "code",
      "source": [
        "estudiante.values()"
      ],
      "metadata": {
        "id": "-NxRT9C18Yvo",
        "outputId": "deaba8a9-a61b-4fdb-f21d-c493f7448800",
        "colab": {
          "base_uri": "https://localhost:8080/"
        }
      },
      "execution_count": null,
      "outputs": [
        {
          "output_type": "execute_result",
          "data": {
            "text/plain": [
              "dict_values([2000168933, 25, 10, 'EAD'])"
            ]
          },
          "metadata": {},
          "execution_count": 61
        }
      ]
    },
    {
      "cell_type": "markdown",
      "source": [
        "### Lectura de valores con el lazo `for`"
      ],
      "metadata": {
        "id": "e3XVjR8Frp75"
      }
    },
    {
      "cell_type": "code",
      "source": [
        "for llave in estudiante.keys():\n",
        "  print(llave)"
      ],
      "metadata": {
        "id": "NYcjU-Ip8Xan",
        "outputId": "6b6502fc-264c-409d-ed70-487e2a0f1fcd",
        "colab": {
          "base_uri": "https://localhost:8080/"
        }
      },
      "execution_count": null,
      "outputs": [
        {
          "output_type": "stream",
          "name": "stdout",
          "text": [
            "matricula\n",
            "dia_registro\n",
            "mes_registro\n",
            "modalidad\n"
          ]
        }
      ]
    },
    {
      "cell_type": "code",
      "source": [
        "for llave,valor in estudiante.items():\n",
        "  print(llave, '--->', valor)"
      ],
      "metadata": {
        "id": "aAnpP1Wv8XfJ",
        "outputId": "f4a927bc-9fbb-4c37-bf52-870b5d8eac3e",
        "colab": {
          "base_uri": "https://localhost:8080/"
        }
      },
      "execution_count": null,
      "outputs": [
        {
          "output_type": "stream",
          "name": "stdout",
          "text": [
            "matricula ---> 2000168933\n",
            "dia_registro ---> 25\n",
            "mes_registro ---> 10\n",
            "modalidad ---> EAD\n"
          ]
        }
      ]
    },
    {
      "cell_type": "code",
      "source": [
        "tienda = {'nombres': ['televisión', 'celular', 'notebook', 'geladeira', 'estufa'],\n",
        "          'precios': [2000, 1500, 3500, 4000, 1500]}"
      ],
      "metadata": {
        "id": "aP0F4_OG_orM"
      },
      "execution_count": null,
      "outputs": []
    },
    {
      "cell_type": "code",
      "source": [
        "for clave, elementos in tienda.items():\n",
        "  print(f'Clave: {clave}\\nElementos:')\n",
        "  for dato in elementos:\n",
        "    print(dato)"
      ],
      "metadata": {
        "id": "ye_xNWFaAk4O",
        "outputId": "7fc018b8-988e-48c0-dfe1-d19d2e0d36cd",
        "colab": {
          "base_uri": "https://localhost:8080/"
        }
      },
      "execution_count": null,
      "outputs": [
        {
          "output_type": "stream",
          "name": "stdout",
          "text": [
            "Clave: nombres\n",
            "Elementos:\n",
            "televisión\n",
            "celular\n",
            "notebook\n",
            "geladeira\n",
            "estufa\n",
            "Clave: precios\n",
            "Elementos:\n",
            "2000\n",
            "1500\n",
            "3500\n",
            "4000\n",
            "1500\n"
          ]
        }
      ]
    },
    {
      "cell_type": "code",
      "source": [],
      "metadata": {
        "id": "OpuUiuDEAm23"
      },
      "execution_count": null,
      "outputs": []
    },
    {
      "cell_type": "code",
      "source": [
        "#1\n",
        "\n",
        "gastosPapel = [2172.54, 3701.35, 3518.09, 3456.61, 3249.38, 2840.82, 3891.45, 3075.26, 2317.64, 3219.08]\n",
        "\n",
        "sumaGasto = sum(gastosPapel)\n",
        "cantidadGasto = len(gastosPapel)\n",
        "\n",
        "print('El promedio de los gastos fueron: {}' .format(sumaGasto/cantidadGasto))\n"
      ],
      "metadata": {
        "colab": {
          "base_uri": "https://localhost:8080/"
        },
        "id": "EFOU7zySBzB6",
        "outputId": "afc540e1-34de-47d9-b24b-152f940c9c25"
      },
      "execution_count": null,
      "outputs": [
        {
          "output_type": "stream",
          "name": "stdout",
          "text": [
            "El promedio de los gastos fueron: 3144.222\n"
          ]
        }
      ]
    },
    {
      "cell_type": "code",
      "source": [
        "# 2\n",
        "\n",
        "sobrePaso = 0\n",
        "for i in range(0, cantidadGasto):\n",
        "  if gastosPapel[i] > 3000:\n",
        "    sobrePaso += 1\n",
        "\n",
        "print('Se realizaron {} compras por encima de 3000 reales, por ende representa un {}% con respecto al total de las compras' .format(sobrePaso, (sobrePaso/cantidadGasto)*100))"
      ],
      "metadata": {
        "id": "b0nbVxT3CeBu",
        "outputId": "42f18f0c-6f1f-454f-8370-36dd94ca0d57",
        "colab": {
          "base_uri": "https://localhost:8080/"
        }
      },
      "execution_count": null,
      "outputs": [
        {
          "output_type": "stream",
          "name": "stdout",
          "text": [
            "Se realizaron 7 compras por encima de 3000 reales, por ende representa un 70.0% con respecto al total de las compras\n"
          ]
        }
      ]
    },
    {
      "cell_type": "code",
      "source": [
        "# 3\n",
        "\n",
        "listaNumeros = []\n",
        "\n",
        "for i in range(1, 6):\n",
        "\n",
        " listaNumeros.append(int(input('Escribe un numero: ')))\n",
        "\n",
        "print('\\n',listaNumeros)"
      ],
      "metadata": {
        "id": "KOozd3fgDZgT",
        "outputId": "5740abf9-c012-40c8-d7a5-6a69d144eecc",
        "colab": {
          "base_uri": "https://localhost:8080/"
        }
      },
      "execution_count": null,
      "outputs": [
        {
          "output_type": "stream",
          "name": "stdout",
          "text": [
            "Escribe un numero: 4\n",
            "Escribe un numero: 2\n",
            "Escribe un numero: 5\n",
            "Escribe un numero: 3\n",
            "Escribe un numero: 2\n",
            "\n",
            " [4, 2, 5, 3, 2]\n"
          ]
        }
      ]
    },
    {
      "cell_type": "code",
      "source": [
        "# 4\n",
        "\n",
        "listaNumeros = []\n",
        "\n",
        "for i in range(1, 6):\n",
        "\n",
        " listaNumeros.append(int(input('Escribe un numero: ')))\n",
        "\n",
        "print('\\n',listaNumeros[::-1])"
      ],
      "metadata": {
        "id": "6uNtwXdBEnnR",
        "outputId": "cd29ea5f-05e6-467c-a55a-deda2677dc1c",
        "colab": {
          "base_uri": "https://localhost:8080/"
        }
      },
      "execution_count": null,
      "outputs": [
        {
          "output_type": "stream",
          "name": "stdout",
          "text": [
            "Escribe un numero: 1\n",
            "Escribe un numero: 2\n",
            "Escribe un numero: 3\n",
            "Escribe un numero: 4\n",
            "Escribe un numero: 5\n",
            "\n",
            " [5, 4, 3, 2, 1]\n"
          ]
        }
      ]
    },
    {
      "cell_type": "code",
      "source": [
        "# 5\n",
        "\n",
        "numeroLimite = int(input('Escribe el limite de un numero entero, para hacer una lista de numeros primos: '))\n",
        "\n",
        "print('\\nNumeros Primos:\\n')\n",
        "for i in range(2, numeroLimite+1):\n",
        "  for j in range(2, i):\n",
        "    if i % j == 0:\n",
        "      break\n",
        "  else:\n",
        "      print(i)\n",
        "\n",
        "\n"
      ],
      "metadata": {
        "id": "2ntqRjbYGut1",
        "outputId": "daef8c42-ea9e-44d2-cd91-78ae0e744ac8",
        "colab": {
          "base_uri": "https://localhost:8080/"
        }
      },
      "execution_count": 13,
      "outputs": [
        {
          "output_type": "stream",
          "name": "stdout",
          "text": [
            "Escribe el limite de un numero entero, para hacer una lista de numeros primos: 23\n",
            "\n",
            "Numeros Primos:\n",
            "\n",
            "2\n",
            "3\n",
            "5\n",
            "7\n",
            "11\n",
            "13\n",
            "17\n",
            "19\n",
            "23\n"
          ]
        }
      ]
    },
    {
      "cell_type": "code",
      "source": [
        "#6\n",
        "\n",
        "listadia = ['Lunes', 'Martes', 'Miercoles', 'Jueves', 'Viernes', 'Sabado', 'Domingo']\n",
        "listaMes = ['Enero', 'Febrero', 'Marzo', 'Abril', 'Mayo', 'Junio', 'Julio', 'Agosto', 'Septiembre', 'Octubre', 'Noviembre', 'Diciembre']\n",
        "print('Escribe una fecha para valirdarla\\n')\n",
        "dia = int(input('Escribe el dia: '))\n",
        "mes = int(input('Escribe el mes: '))\n",
        "año = int(input('Escribe el año:'))\n",
        "\n"
      ],
      "metadata": {
        "id": "PSADfVgid0XA",
        "outputId": "32840e21-21a0-4d1f-9231-cb6c24936ca5",
        "colab": {
          "base_uri": "https://localhost:8080/",
          "height": 106
        }
      },
      "execution_count": 3,
      "outputs": [
        {
          "output_type": "error",
          "ename": "SyntaxError",
          "evalue": "invalid syntax (<ipython-input-3-ae67f36756be>, line 4)",
          "traceback": [
            "\u001b[0;36m  File \u001b[0;32m\"<ipython-input-3-ae67f36756be>\"\u001b[0;36m, line \u001b[0;32m4\u001b[0m\n\u001b[0;31m    listaMes =\u001b[0m\n\u001b[0m               ^\u001b[0m\n\u001b[0;31mSyntaxError\u001b[0m\u001b[0;31m:\u001b[0m invalid syntax\n"
          ]
        }
      ]
    },
    {
      "cell_type": "code",
      "source": [],
      "metadata": {
        "id": "pqsf1Yo662W7"
      },
      "execution_count": null,
      "outputs": []
    }
  ]
}